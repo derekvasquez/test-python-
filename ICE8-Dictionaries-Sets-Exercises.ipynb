{
 "cells": [
  {
   "cell_type": "markdown",
   "id": "89fe0917",
   "metadata": {},
   "source": [
    "# 🐍 ICE 8: Dictionaries and Sets"
   ]
  },
  {
   "cell_type": "markdown",
   "id": "0bf1c870",
   "metadata": {},
   "source": [
    "### Exercise 1: Creating and Accessing a Dictionary\n",
    "Create a dictionary called `capitals` that maps the following countries to their capital cities:\n",
    "- France → Paris\n",
    "- Germany → Berlin\n",
    "- Italy → Rome\n",
    "\n",
    "Print the entire dictionary, and then print the capital of Germany using its key."
   ]
  },
  {
   "cell_type": "code",
   "execution_count": 13,
   "id": "b0b0beae",
   "metadata": {},
   "outputs": [
    {
     "name": "stdout",
     "output_type": "stream",
     "text": [
      "Dictionary of capitals: {'France': 'Paris', 'Germany': 'Berlin', 'Italy': 'Rome'}\n",
      "The capital of Germany is: Berlin\n"
     ]
    }
   ],
   "source": [
    "#dictionary\n",
    "capitals =  {\"France\": \"Paris\", \"Germany\": \"Berlin\", \"Italy\": \"Rome\"}\n",
    "\n",
    "# Printing dictionary\n",
    "print('Dictionary of capitals:', capitals)\n",
    "\n",
    "# Printing the capital of Germany\n",
    "print('The capital of Germany is:', capitals['Germany'])"
   ]
  },
  {
   "cell_type": "markdown",
   "id": "9c483959",
   "metadata": {},
   "source": [
    "### Exercise 2: Modifying a Dictionary\n",
    "Add a new country-capital pair to the `capitals` dictionary: Spain → Madrid.\n",
    "Update the capital of Italy to \"Milan\".\n",
    "Delete the entry for France.\n",
    "Print the dictionary after each operation."
   ]
  },
  {
   "cell_type": "code",
   "execution_count": 14,
   "id": "84a851a3",
   "metadata": {},
   "outputs": [
    {
     "name": "stdout",
     "output_type": "stream",
     "text": [
      "After adding Spain: {'France': 'Paris', 'Germany': 'Berlin', 'Italy': 'Rome', 'Spain': 'Madrid'}\n",
      "After updating Italy's capital: {'France': 'Paris', 'Germany': 'Berlin', 'Italy': 'Milan', 'Spain': 'Madrid'}\n",
      "After deleting France: {'Germany': 'Berlin', 'Italy': 'Milan', 'Spain': 'Madrid'}\n"
     ]
    }
   ],
   "source": [
    "capitals[\"Spain\"] = \"Madrid\"\n",
    "print(\"After adding Spain:\", capitals)\n",
    "\n",
    "# Updating Italy to \"Milan\"\n",
    "capitals[\"Italy\"] = \"Milan\"\n",
    "print(\"After updating Italy's capital:\", capitals)\n",
    "\n",
    "# Deleting the France\n",
    "del capitals[\"France\"]\n",
    "print(\"After deleting France:\", capitals)"
   ]
  },
  {
   "cell_type": "markdown",
   "id": "9ae03ed6",
   "metadata": {},
   "source": [
    "### Exercise 3: Dictionary Methods\n",
    "Use the following dictionary:\n",
    "```python\n",
    "grades = {\"Alice\": 85, \"Bob\": 90, \"Charlie\": 78}\n",
    "```\n",
    "- Print all student names using `.keys()`\n",
    "- Print all grades using `.values()`\n",
    "- Print all student-grade pairs using `.items()`\n",
    "- Use `.get()` to retrieve Diana’s grade with a default message."
   ]
  },
  {
   "cell_type": "code",
   "execution_count": null,
   "id": "b05ace69",
   "metadata": {},
   "outputs": [
    {
     "name": "stdout",
     "output_type": "stream",
     "text": [
      "Student Names: dict_keys(['Alice', 'Bob', 'Charlie'])\n",
      "Grades: dict_values([85, 90, 78])\n",
      "Student-Grade Pairs: dict_items([('Alice', 85), ('Bob', 90), ('Charlie', 78)])\n",
      "Diana's Grade: No grade available\n"
     ]
    }
   ],
   "source": [
    "grades = {\"Alice\": 85, \"Bob\": 90, \"Charlie\": 78}\n",
    "\n",
    "# Print names\n",
    "print(\"Student Names:\", grades.keys())\n",
    "\n",
    "# Print grades\n",
    "print(\"Grades:\", grades.values())\n",
    "\n",
    "# Print student names with their grades\n",
    "print(\"Student-Grade Pairs:\", grades.items())\n",
    "\n",
    "# Retrieve Diana’s grade (fail safe)\n",
    "print(\"Diana's Grade:\", grades.get(\"Diana\", \"No grade available\"))\n"
   ]
  },
  {
   "cell_type": "markdown",
   "id": "f1ed7b68",
   "metadata": {},
   "source": [
    "### Exercise 4: Dictionary Comprehension\n",
    "Create a list called `nums` with values `[1, 2, 3, 4, 5]`.\n",
    "Use a dictionary comprehension to create a dictionary where the keys are the numbers and the values are their cubes."
   ]
  },
  {
   "cell_type": "code",
   "execution_count": 35,
   "id": "b275e069",
   "metadata": {},
   "outputs": [
    {
     "name": "stdout",
     "output_type": "stream",
     "text": [
      "Cubes dictionary: {1: 1, 2: 8, 3: 27, 4: 64, 5: 125}\n"
     ]
    }
   ],
   "source": [
    "# Given list\n",
    "numbers = [1, 2, 3, 4, 5]\n",
    "\n",
    "# Dictionary comprehension to create a dictionary with cubes\n",
    "cubes = {num: num**3 for num in numbers}\n",
    "\n",
    "# Printing the resulting dictionary\n",
    "print(\"Cubes dictionary:\", cubes)\n"
   ]
  },
  {
   "cell_type": "markdown",
   "id": "d3b7f375",
   "metadata": {},
   "source": [
    "### Exercise 5: Creating and Using Sets\n",
    "Create a set named `colors` with the values: \"red\", \"green\", \"blue\", \"green\", \"red\".\n",
    "Print the set. Add \"yellow\" to the set and then remove \"blue\".\n",
    "Check if \"purple\" is in the set. Print the final set."
   ]
  },
  {
   "cell_type": "code",
   "execution_count": 36,
   "id": "5cf40a3f",
   "metadata": {},
   "outputs": [
    {
     "name": "stdout",
     "output_type": "stream",
     "text": [
      "Initial set: {'blue', 'green', 'red'}\n",
      "After adding yellow: {'yellow', 'blue', 'green', 'red'}\n",
      "After removing blue: {'yellow', 'green', 'red'}\n",
      "Is purple in the set? False\n",
      "Final set: {'yellow', 'green', 'red'}\n"
     ]
    }
   ],
   "source": [
    "# Creating the set with duplicate values\n",
    "colors = {\"red\", \"green\", \"blue\", \"green\", \"red\"}\n",
    "\n",
    "# Printing the set\n",
    "print(\"Initial set:\", colors)\n",
    "\n",
    "# Adding yellow\n",
    "colors.add(\"yellow\")\n",
    "print(\"After adding yellow:\", colors)\n",
    "\n",
    "# Removing blue\n",
    "colors.discard(\"blue\")  # Using discard to avoid errors if \"blue\" is not present\n",
    "print(\"After removing blue:\", colors)\n",
    "\n",
    "# Checking if purple\n",
    "print(\"Is purple in the set?\", \"purple\" in colors)\n",
    "\n",
    "# Printing the final set\n",
    "print(\"Final set:\", colors)\n"
   ]
  },
  {
   "cell_type": "markdown",
   "id": "b37813ad",
   "metadata": {},
   "source": [
    "### Exercise 6: Set Operations\n",
    "Create two sets:\n",
    "```python\n",
    "set1 = {1, 2, 3, 4}\n",
    "set2 = {3, 4, 5, 6}\n",
    "```\n",
    "Perform and print the result of the following operations:\n",
    "- Union\n",
    "- Intersection\n",
    "- Difference (set1 - set2)\n",
    "- Symmetric difference"
   ]
  },
  {
   "cell_type": "code",
   "execution_count": 37,
   "id": "aff29244",
   "metadata": {},
   "outputs": [
    {
     "name": "stdout",
     "output_type": "stream",
     "text": [
      "Union: {1, 2, 3, 4, 5, 6}\n",
      "Intersection: {3, 4}\n",
      "Difference (set1 - set2): {1, 2}\n",
      "Symmetric Difference: {1, 2, 5, 6}\n"
     ]
    }
   ],
   "source": [
    "set1 = {1, 2, 3, 4}\n",
    "set2 = {3, 4, 5, 6}\n",
    "\n",
    "# Union\n",
    "union_set = set1 | set2\n",
    "print(\"Union:\", union_set)\n",
    "\n",
    "# Intersection\n",
    "intersection_set = set1 & set2\n",
    "print(\"Intersection:\", intersection_set)\n",
    "\n",
    "# Difference (set1 - set2)\n",
    "difference_set = set1 - set2\n",
    "print(\"Difference (set1 - set2):\", difference_set)\n",
    "\n",
    "# Symmetric Difference\n",
    "symmetric_difference_set = set1 ^ set2\n",
    "print(\"Symmetric Difference:\", symmetric_difference_set)\n"
   ]
  }
 ],
 "metadata": {
  "kernelspec": {
   "display_name": "Python 3",
   "language": "python",
   "name": "python3"
  },
  "language_info": {
   "codemirror_mode": {
    "name": "ipython",
    "version": 3
   },
   "file_extension": ".py",
   "mimetype": "text/x-python",
   "name": "python",
   "nbconvert_exporter": "python",
   "pygments_lexer": "ipython3",
   "version": "3.13.1"
  }
 },
 "nbformat": 4,
 "nbformat_minor": 5
}
