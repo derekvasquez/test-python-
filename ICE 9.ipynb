{
 "cells": [
  {
   "cell_type": "markdown",
   "metadata": {},
   "source": [
    "# 🐍 ICE 9: Error Handling with `try / except`"
   ]
  },
  {
   "cell_type": "markdown",
   "metadata": {},
   "source": [
    "## Exercise 1\n",
    "\n",
    "**Task:**\n",
    "- Assume you have a predefined list of fruits: [\"apple\", \"banana\",\n",
    "\"cherry\"].\n",
    "- Your task is to write a program that asks the user to enter the index\n",
    "number of the fruit they want, such as 0 for \"apple\", 1 for \"banana\", or\n",
    "2 for \"cherry\".\n",
    "- The program should then print the name of the fruit at the chosen\n",
    "index.\n",
    "- To make the program more robust, you should use a `try/except` block\n",
    "to handle possible errors.\n",
    "- Specifically, you need to handle the case when the user enters\n",
    "something that is not a number (which would cause a `ValueError`)\n",
    "and when the user enters a number that is outside the valid range of\n",
    "indices for the list (which would cause an `IndexError`).\n",
    "- The program should print a friendly error message in both cases\n",
    "without crashing."
   ]
  },
  {
   "cell_type": "code",
   "execution_count": 3,
   "metadata": {},
   "outputs": [
    {
     "name": "stdout",
     "output_type": "stream",
     "text": [
      "You selected: cherry\n"
     ]
    }
   ],
   "source": [
    "#fruit list\n",
    "fruits = [\"apple\", \"banana\", \"cherry\"]\n",
    "\n",
    "try:\n",
    "    index = int(input(\"Enter the index of the fruit you want (0 for apple, 1 for banana, 2 for cherry): \"))\n",
    "    print(\"You selected:\", fruits[index])\n",
    "\n",
    "#value error (only int)\n",
    "except ValueError:\n",
    "    print(\"Please enter a valid number.\")\n",
    "\n",
    "#index error (only accepts 0,1,2)\n",
    "except IndexError:\n",
    "    print(\"Sorry, that number is out of range. Please enter 0, 1, or 2.\")\n",
    "\n"
   ]
  },
  {
   "cell_type": "markdown",
   "metadata": {},
   "source": [
    "## Exercise 2\n",
    "\n",
    "**Task:**\n",
    "Implement function `calculator_division()` that divides 2 numbers with `try/except` for a) handling error when user enters something that’s not a number (`ValueError`) and b) when user tries to divide by zero (`ZeroDivisionError`).\n"
   ]
  },
  {
   "cell_type": "code",
   "execution_count": 6,
   "metadata": {},
   "outputs": [
    {
     "name": "stdout",
     "output_type": "stream",
     "text": [
      "Result: 4.5\n"
     ]
    }
   ],
   "source": [
    "def calculator_division():\n",
    "    try:\n",
    "        #division calc for two numbers\n",
    "        num1 = float(input(\"Enter the number 1: \"))\n",
    "        num2 = float(input(\"Enter the number 2: \"))\n",
    "        #formula\n",
    "        result = num1 / num2\n",
    "        print(\"Result:\", result)\n",
    "        #value error (only takes numbers)\n",
    "    except ValueError:\n",
    "        print(\"Invalid input. Please enter numeric values.\")\n",
    "        #zerodivisionerror (cannot divide by zero)\n",
    "    except ZeroDivisionError:\n",
    "        print(\"Cannot divide by zero. Please enter a non-zero denominator.\")\n",
    "\n",
    "calculator_division()\n"
   ]
  }
 ],
 "metadata": {
  "kernelspec": {
   "display_name": "Python 3",
   "language": "python",
   "name": "python3"
  },
  "language_info": {
   "codemirror_mode": {
    "name": "ipython",
    "version": 3
   },
   "file_extension": ".py",
   "mimetype": "text/x-python",
   "name": "python",
   "nbconvert_exporter": "python",
   "pygments_lexer": "ipython3",
   "version": "3.13.1"
  }
 },
 "nbformat": 4,
 "nbformat_minor": 2
}
