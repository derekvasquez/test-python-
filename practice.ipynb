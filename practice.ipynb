{
 "cells": [
  {
   "cell_type": "code",
   "execution_count": null,
   "metadata": {},
   "outputs": [
    {
     "name": "stdout",
     "output_type": "stream",
     "text": [
      "Second greater\n"
     ]
    }
   ],
   "source": [
    "salary = int(input(\"What is your annual salary?\"))\n",
    "years_on_job = int(input(\"How many years are you on that job?\"))\n",
    "\n",
    "if salary >= 30000:\n",
    "    if years_on_job >= 2:\n",
    "        print(\"You qualify for the loan\")\n",
    "    else:\n",
    "        print(\"You must have been on your current job for at least two years to qualify!\")\n",
    "else:\n",
    "    print(\"Your salary is not enough\")"
   ]
  },
  {
   "cell_type": "code",
   "execution_count": null,
   "metadata": {},
   "outputs": [],
   "source": [
    "salary = float(input(\"Enter your annual salary: \"))\n",
    "years_on_job = float(input(\"Enter your years on the current job: \"))\n",
    "\n",
    "if salary < 30000:\n",
    "    print(\"You must earn at least $30,000 per year to qualify.\")\n",
    "elif years_on_job < 2:\n",
    "    print(\"You must have been on your current job for at least two years to qualify.\")\n",
    "else:\n",
    "    print(\"You qualify for the loan.\")"
   ]
  },
  {
   "cell_type": "code",
   "execution_count": null,
   "metadata": {},
   "outputs": [],
   "source": [
    "score = float(input(\"Enter your score: \"))\n",
    "\n",
    "if score >= 90:\n",
    "    print(\"Your grade is A.\")\n",
    "elif score >= 80:\n",
    "    print(\"Your grade is B.\")\n",
    "elif score >= 70:\n",
    "    print(\"Your grade is C.\")\n",
    "elif score >= 60:\n",
    "    print(\"Your grade is D.\")\n",
    "else:\n",
    "    print(\"Your grade is F.\")"
   ]
  },
  {
   "cell_type": "code",
   "execution_count": 19,
   "metadata": {},
   "outputs": [
    {
     "name": "stdout",
     "output_type": "stream",
     "text": [
      "Not\n"
     ]
    }
   ],
   "source": [
    "x=int(input(\"Enter number\"))\n",
    "if (x>=10 and x<=20) or x < 0:\n",
    "    print(\"Good\")\n",
    "else:\n",
    "    print(\"Not\")"
   ]
  }
 ],
 "metadata": {
  "kernelspec": {
   "display_name": "base",
   "language": "python",
   "name": "python3"
  },
  "language_info": {
   "codemirror_mode": {
    "name": "ipython",
    "version": 3
   },
   "file_extension": ".py",
   "mimetype": "text/x-python",
   "name": "python",
   "nbconvert_exporter": "python",
   "pygments_lexer": "ipython3",
   "version": "3.8.8"
  }
 },
 "nbformat": 4,
 "nbformat_minor": 2
}
