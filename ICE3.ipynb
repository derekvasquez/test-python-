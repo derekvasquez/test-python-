{
 "cells": [
  {
   "cell_type": "markdown",
   "id": "27c7da35",
   "metadata": {},
   "source": [
    "## 🐍 ICE 3: Decision Structures and Boolean Logic\n",
    "\n",
    "### Instructions:\n",
    "1. Complete each task step by step.\n",
    "2. Read the prompts carefully and write your responses in the provided code cells.\n",
    "3. Execute the cells to verify your code outputs the expected results.\n",
    "4. If an error occurs, debug your code and try again.\n",
    "5. Submit the .html file to canvas.\n"
   ]
  },
  {
   "cell_type": "markdown",
   "id": "4c41e5c0",
   "metadata": {},
   "source": [
    "### Task 1: Amusement Park Ride Eligibility\n",
    "**Instructions:**\n",
    "- Create a program that determines if a user is eligible to ride a rollercoaster based on their height. If the height is 120 cm or more, display \"You can ride the rollercoaster!\". Otherwise, display \"Sorry, you need to be taller to ride.\""
   ]
  },
  {
   "cell_type": "code",
   "execution_count": 51,
   "id": "c634d2b4",
   "metadata": {},
   "outputs": [
    {
     "name": "stdout",
     "output_type": "stream",
     "text": [
      "You can ride the rollercoaster!\n"
     ]
    }
   ],
   "source": [
    "height = float(input('How tall are you?'))\n",
    "if height >= 120:\n",
    "    print(\"You can ride the rollercoaster!\")\n",
    "\n",
    "else:\n",
    "    print(\"Sorry, you will need to be taller to ride.\")"
   ]
  },
  {
   "cell_type": "markdown",
   "id": "1c36fb86",
   "metadata": {},
   "source": [
    "### Task 2: Password Strength Checker\n",
    "**Instructions:**\n",
    "- Ask the user to input a password.\n",
    "- If the password length is less than 6, display \"Weak password\".\n",
    "- If the length is between 6 and 12, display \"Moderate password\".\n",
    "- If it is more than 12, display \"Strong password\".\n",
    "\n",
    "**NOTE** Function len() will give you the length of a string. For example len(\"utsa\") = 4"
   ]
  },
  {
   "cell_type": "code",
   "execution_count": 52,
   "id": "aea1abce",
   "metadata": {},
   "outputs": [
    {
     "name": "stdout",
     "output_type": "stream",
     "text": [
      "Strong Password.\n"
     ]
    }
   ],
   "source": [
    "user_password = str(input(\"Enter your Password?\"))\n",
    "\n",
    "if len(user_password) > 12:\n",
    "    print(\"Strong Password.\")\n",
    "\n",
    "elif len(user_password) > 6 and len(user_password) < 12:\n",
    "    print(\"Moderate Password\")\n",
    "\n",
    "elif len(user_password) < 6:\n",
    "    print(\"Weak Password\")\n"
   ]
  },
  {
   "cell_type": "markdown",
   "id": "1e8eeca1",
   "metadata": {},
   "source": [
    "### Task 3: Discount Calculator\n",
    "**Instructions:**\n",
    "- Ask the user for the total bill amount.\n",
    "- If the amount is over $100, apply a 10% (0.10) discount.\n",
    "- Otherwise, apply a 5% (0.05) discount.\n",
    "- Print the final amount after the discount."
   ]
  },
  {
   "cell_type": "code",
   "execution_count": 62,
   "id": "186f0d76",
   "metadata": {},
   "outputs": [
    {
     "name": "stdout",
     "output_type": "stream",
     "text": [
      "Your new bill is 99.0\n"
     ]
    }
   ],
   "source": [
    "bill = int(input(\"What was your total bill amount?\"))\n",
    "\n",
    "if bill > 100:\n",
    "    discounted_bill = (bill * .10) \n",
    "    final_bill = bill - discounted_bill\n",
    "    print(\"Your new bill is\", final_bill)\n",
    "\n",
    "else:\n",
    "    discounted_bill1 = bill *.05\n",
    "    final_bill1 = bill - discounted_bill1\n",
    "    print(\"Your new bill is\", final_bill1)\n",
    "\n"
   ]
  },
  {
   "cell_type": "markdown",
   "id": "650eee3c",
   "metadata": {},
   "source": [
    "### Task 4: Temperature Advisory\n",
    "**Instructions:** Create a program that provides weather-related advice based on the current temperature.\n",
    "\n",
    "- Ask the user for the current temperature.\n",
    "- If the temperature is below 0, display \"It’s freezing! Wear a coat.\".\n",
    "- If it is between 0 and 20, display \"It’s a bit chilly. Wear a jacket.\".\n",
    "- If it is above 20, display \"It’s warm outside! Enjoy your day.\"."
   ]
  },
  {
   "cell_type": "code",
   "execution_count": 64,
   "id": "fa2933a2",
   "metadata": {},
   "outputs": [
    {
     "name": "stdout",
     "output_type": "stream",
     "text": [
      "It's a bit chilly. Wear a jacket.\n"
     ]
    }
   ],
   "source": [
    "current_temp = int(input(\"What is the current Temperature?\"))\n",
    "\n",
    "if (current_temp) < 0:\n",
    "    print(\"It's Freezeing, Wear a coat.\")\n",
    "\n",
    "elif (current_temp) > 0 and (current_temp) < 20:\n",
    "    print(\"It's a bit chilly. Wear a jacket.\")\n",
    "\n",
    "elif (current_temp) >20:\n",
    "    print(\"It's warm outside! Enjoy your day!\")"
   ]
  },
  {
   "cell_type": "markdown",
   "id": "c8f7e336",
   "metadata": {},
   "source": [
    "### Task 5: Color-Based Mood Generator\n",
    "**Instructions:** Write a program that associates colors with moods and returns a corresponding message based on the user’s input.\n",
    "\n",
    "- Ask the user to input a color.\n",
    "- Depending on the color, print a corresponding mood message:\n",
    "  - \"Red\" → \"You seem energetic today!\"\n",
    "  - \"Blue\" → \"You are calm and relaxed.\"\n",
    "  - \"Yellow\" → \"You are feeling happy and bright!\"\n",
    "  - Any other color → \"That’s a unique choice!\""
   ]
  },
  {
   "cell_type": "code",
   "execution_count": 65,
   "id": "aaa41a3f",
   "metadata": {},
   "outputs": [
    {
     "name": "stdout",
     "output_type": "stream",
     "text": [
      "You seem energetic today!\n"
     ]
    }
   ],
   "source": [
    "color = str(input(\"What is your your color?\"))\n",
    "\n",
    "if (color) == \"red\":\n",
    "    print(\"You seem energetic today!\")\n",
    "\n",
    "elif (color) == \"blue\":\n",
    "    print(\"You are calm and relaxed today!\")\n",
    "\n",
    "elif (color) == \"yellow\":\n",
    "    print(\"You are feeling happy and bright!\")\n",
    "\n",
    "else:\n",
    "    print(\"That's a unique choice!\")\n"
   ]
  }
 ],
 "metadata": {
  "kernelspec": {
   "display_name": "Python 3",
   "language": "python",
   "name": "python3"
  },
  "language_info": {
   "codemirror_mode": {
    "name": "ipython",
    "version": 3
   },
   "file_extension": ".py",
   "mimetype": "text/x-python",
   "name": "python",
   "nbconvert_exporter": "python",
   "pygments_lexer": "ipython3",
   "version": "3.13.1"
  }
 },
 "nbformat": 4,
 "nbformat_minor": 5
}
