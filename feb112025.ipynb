{
 "cells": [
  {
   "cell_type": "code",
   "execution_count": 4,
   "metadata": {},
   "outputs": [
    {
     "name": "stdout",
     "output_type": "stream",
     "text": [
      "There are indeed the same.\n"
     ]
    }
   ],
   "source": [
    "str1 = ('Derek')\n",
    "str2 = ('Derek')\n",
    "\n",
    "if str1 == str2:\n",
    "    print('There are indeed the same.')"
   ]
  },
  {
   "cell_type": "code",
   "execution_count": 11,
   "metadata": {},
   "outputs": [
    {
     "name": "stdout",
     "output_type": "stream",
     "text": [
      "the second number is greater\n"
     ]
    }
   ],
   "source": [
    "x = int(input(\"Input number1\"))\n",
    "y = int(input(\"Input number2\"))\n",
    "\n",
    "if x > y:\n",
    "    print (\"the first number is greater\")\n",
    "\n",
    "#if x < y:\n",
    "    #print (\"the second number is greater\")\n",
    "\n",
    "else:\n",
    "    print (\"the second number is greater\")\n"
   ]
  },
  {
   "cell_type": "code",
   "execution_count": 18,
   "metadata": {},
   "outputs": [
    {
     "name": "stdout",
     "output_type": "stream",
     "text": [
      "you are unable to vote\n"
     ]
    }
   ],
   "source": [
    "age = int(input(\"How old are you\"))\n",
    "\n",
    "if age > 18:\n",
    "    print(\"you are able to vote\")\n",
    "\n",
    "else:\n",
    "    print(\"you are unable to vote\")"
   ]
  },
  {
   "cell_type": "code",
   "execution_count": null,
   "metadata": {},
   "outputs": [
    {
     "name": "stdout",
     "output_type": "stream",
     "text": [
      "you qualify for the loan.\n"
     ]
    }
   ],
   "source": [
    "salary = int(input(\"How much do you earn per year?\"))\n",
    "years_worked = int(input(\"How many years have you worked at your current job?\"))\n",
    "\n",
    "\n",
    "if salary >= 30000:\n",
    "        print(\"you qualify for the loan.\")\n",
    "\n",
    "elif years_worked >= 2:\n",
    "        print(\"You qualify for the loan.\")\n",
    "\n",
    "else:\n",
    "    print(\"you are unable to qualify for the loan.\")\n"
   ]
  },
  {
   "cell_type": "code",
   "execution_count": 44,
   "metadata": {},
   "outputs": [
    {
     "name": "stdout",
     "output_type": "stream",
     "text": [
      "Your grade is an A.\n"
     ]
    }
   ],
   "source": [
    "score = float(input(\"What was your score on the test?\"))\n",
    "\n",
    "if score >= 90:\n",
    "    print(\"Your grade is an A.\")\n",
    "elif score >= 80:\n",
    "    print(\"Your grade is a B.\")\n",
    "elif score >= 70:\n",
    "    print(\"Your grade is a C.\")\n",
    "else:\n",
    "    print(\"You failed.\")\n",
    "\n",
    "#need to figure out what did wrong.\n"
   ]
  }
 ],
 "metadata": {
  "kernelspec": {
   "display_name": "Python 3",
   "language": "python",
   "name": "python3"
  },
  "language_info": {
   "codemirror_mode": {
    "name": "ipython",
    "version": 3
   },
   "file_extension": ".py",
   "mimetype": "text/x-python",
   "name": "python",
   "nbconvert_exporter": "python",
   "pygments_lexer": "ipython3",
   "version": "3.13.1"
  }
 },
 "nbformat": 4,
 "nbformat_minor": 2
}
