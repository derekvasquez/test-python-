{
 "cells": [
  {
   "cell_type": "markdown",
   "id": "b2cfd4ce",
   "metadata": {},
   "source": [
    "# 🐍 ICE 7 – Working with Lists in Python\n",
    "\n",
    "In this in-class exercise, we'll explore the core functionality of **lists** in Python.\n",
    "You’ll practice:\n",
    "- Creating lists\n",
    "- Indexing and slicing\n",
    "- Using loops with lists\n",
    "- Applying list methods and built-in functions\n",
    "- Writing list comprehensions\n"
   ]
  },
  {
   "cell_type": "markdown",
   "id": "c94c047c",
   "metadata": {},
   "source": [
    "### Exercise 1: Creating and Printing Lists\n",
    "Create the following three lists:\n",
    "- A list of fruits: `\"apple\"`, `\"banana\"`, `\"cherry\"`\n",
    "- A list of numbers: `10, 20, 30, 40, 50`\n",
    "- A mixed list: `\"hello\"`, `3.14`, `42`, `True`\n",
    "\n",
    "Print each list using the `print()` function.\n"
   ]
  },
  {
   "cell_type": "code",
   "execution_count": 2,
   "id": "fa5a56e4",
   "metadata": {},
   "outputs": [
    {
     "name": "stdout",
     "output_type": "stream",
     "text": [
      "Fruits List: ['apple', 'banana', 'cherry']\n",
      "Numbers List: [10, 20, 30, 40, 50]\n",
      "Mixed List: ['hello', 3.14, 42, True]\n"
     ]
    }
   ],
   "source": [
    "# Creating lists\n",
    "fruit = [\"apple\", \"banana\", \"cherry\"]\n",
    "number = [10, 20, 30, 40, 50]\n",
    "mixed = [\"hello\", 3.14, 42, True]\n",
    "\n",
    "# Printing list\n",
    "print(\"Fruits List:\", fruit)\n",
    "print(\"Numbers List:\", number)\n",
    "print(\"Mixed List:\", mixed)"
   ]
  },
  {
   "cell_type": "markdown",
   "id": "388e6e4d",
   "metadata": {},
   "source": [
    "### Exercise 2: Indexing and Slicing\n",
    "Use indexing and slicing to:\n",
    "- Print the first fruit\n",
    "- Print the last number\n",
    "- Print a slice of the `numbers` list from the second to the fourth item\n"
   ]
  },
  {
   "cell_type": "code",
   "execution_count": 3,
   "id": "d0d85286",
   "metadata": {},
   "outputs": [
    {
     "name": "stdout",
     "output_type": "stream",
     "text": [
      "apple\n",
      "50\n",
      "[20, 30, 40]\n"
     ]
    }
   ],
   "source": [
    "#using print/ splice \n",
    "print(fruit[0])\n",
    "\n",
    "print(number[-1])\n",
    "\n",
    "print(number[1:4])"
   ]
  },
  {
   "cell_type": "markdown",
   "id": "420b228e",
   "metadata": {},
   "source": [
    "### Exercise 3: Iterating Over a List\n",
    "Use a `for` loop to iterate over the `fruits` list and print each item on a new line.\n"
   ]
  },
  {
   "cell_type": "code",
   "execution_count": 4,
   "id": "0c7c9a0e",
   "metadata": {},
   "outputs": [
    {
     "name": "stdout",
     "output_type": "stream",
     "text": [
      "['apple', 'banana', 'cherry']\n"
     ]
    }
   ],
   "source": [
    "#list in line\n",
    "for_list = [item for item in fruit]\n",
    "\n",
    "#print\n",
    "print(for_list)"
   ]
  },
  {
   "cell_type": "markdown",
   "id": "aeffe6bf",
   "metadata": {},
   "source": [
    "### Exercise 4: Using List Methods\n",
    "Modify the `fruits` list by:\n",
    "- Adding `\"orange\"` to the end of the list\n",
    "- Inserting `\"blueberry\"` at position 1\n",
    "- Removing `\"banana\"` from the list\n",
    "- Reversing the list\n",
    "- Sorting the list in ascending order\n",
    "\n",
    "Print the list after each operation to see the changes.\n"
   ]
  },
  {
   "cell_type": "code",
   "execution_count": 5,
   "id": "4369963f",
   "metadata": {},
   "outputs": [
    {
     "name": "stdout",
     "output_type": "stream",
     "text": [
      "New List: ['apple', 'banana', 'cherry', 'orange']\n"
     ]
    }
   ],
   "source": [
    "fruit = [\"apple\", \"banana\", \"cherry\"]\n",
    "\n",
    "fruit.append(\"orange\")\n",
    "\n",
    "print(\"New List:\", fruit)\n",
    "\n"
   ]
  },
  {
   "cell_type": "code",
   "execution_count": 6,
   "id": "b578ffb7",
   "metadata": {},
   "outputs": [
    {
     "name": "stdout",
     "output_type": "stream",
     "text": [
      "['blueberry', 'banana', 'cherry', 'orange']\n"
     ]
    }
   ],
   "source": [
    "fruit[0] = \"blueberry\"\n",
    "print(fruit)"
   ]
  },
  {
   "cell_type": "code",
   "execution_count": 7,
   "id": "62805c1b",
   "metadata": {},
   "outputs": [
    {
     "name": "stdout",
     "output_type": "stream",
     "text": [
      "['blueberry', 'cherry', 'orange']\n"
     ]
    }
   ],
   "source": [
    "del fruit[1]\n",
    "print(fruit)"
   ]
  },
  {
   "cell_type": "code",
   "execution_count": 11,
   "id": "53c11129",
   "metadata": {},
   "outputs": [
    {
     "name": "stdout",
     "output_type": "stream",
     "text": [
      "[50, 40, 30, 20, 10]\n"
     ]
    }
   ],
   "source": [
    "number = [10, 20, 30, 40, 50]\n",
    "number.reverse()\n",
    "print(number)"
   ]
  },
  {
   "cell_type": "code",
   "execution_count": 20,
   "id": "2b055372",
   "metadata": {},
   "outputs": [
    {
     "name": "stdout",
     "output_type": "stream",
     "text": [
      "[10, 20, 30, 40, 50]\n"
     ]
    }
   ],
   "source": [
    "number.sort()\n",
    "print(number)"
   ]
  },
  {
   "cell_type": "markdown",
   "id": "80863192",
   "metadata": {},
   "source": [
    "### Exercise 5: Built-in Functions with Lists\n",
    "Use the following built-in functions with the `numbers` list:\n",
    "- `len()` to get the number of elements\n",
    "- `max()` to get the largest number\n",
    "- `min()` to get the smallest number\n",
    "- `sum()` to get the total of all numbers\n"
   ]
  },
  {
   "cell_type": "code",
   "execution_count": 21,
   "id": "789cbee4",
   "metadata": {},
   "outputs": [
    {
     "data": {
      "text/plain": [
       "5"
      ]
     },
     "execution_count": 21,
     "metadata": {},
     "output_type": "execute_result"
    }
   ],
   "source": [
    "len(number)"
   ]
  },
  {
   "cell_type": "code",
   "execution_count": 22,
   "id": "be1e5b34",
   "metadata": {},
   "outputs": [
    {
     "data": {
      "text/plain": [
       "50"
      ]
     },
     "execution_count": 22,
     "metadata": {},
     "output_type": "execute_result"
    }
   ],
   "source": [
    "max(number)"
   ]
  },
  {
   "cell_type": "code",
   "execution_count": 23,
   "id": "9adcf5fc",
   "metadata": {},
   "outputs": [
    {
     "data": {
      "text/plain": [
       "10"
      ]
     },
     "execution_count": 23,
     "metadata": {},
     "output_type": "execute_result"
    }
   ],
   "source": [
    "min(number)"
   ]
  },
  {
   "cell_type": "code",
   "execution_count": 24,
   "id": "8ef036b6",
   "metadata": {},
   "outputs": [
    {
     "data": {
      "text/plain": [
       "150"
      ]
     },
     "execution_count": 24,
     "metadata": {},
     "output_type": "execute_result"
    }
   ],
   "source": [
    "sum(number)"
   ]
  },
  {
   "cell_type": "markdown",
   "id": "1e660786",
   "metadata": {},
   "source": [
    "### Exercise 6: List Comprehensions\n",
    "Create new lists using list comprehensions:\n",
    "- A list of squares of numbers from 1 to 5\n",
    "- A list of even numbers from the `numbers` list\n"
   ]
  },
  {
   "cell_type": "code",
   "execution_count": 25,
   "id": "ec7eca42",
   "metadata": {},
   "outputs": [
    {
     "data": {
      "text/plain": [
       "[1, 4, 9, 16, 25]"
      ]
     },
     "execution_count": 25,
     "metadata": {},
     "output_type": "execute_result"
    }
   ],
   "source": [
    "lst = [1,2,3,4,5]\n",
    "lst2 = [item**2 for item in lst]\n",
    "\n",
    "lst2"
   ]
  },
  {
   "cell_type": "code",
   "execution_count": 26,
   "id": "917e8c22",
   "metadata": {},
   "outputs": [
    {
     "data": {
      "text/plain": [
       "[2, 4, 6, 8, 10]"
      ]
     },
     "execution_count": 26,
     "metadata": {},
     "output_type": "execute_result"
    }
   ],
   "source": [
    "ll = [1,2,3,4,5,6,7,8,9,10]\n",
    "l_even = [item for item in ll if item % 2 == 0]\n",
    "l_even"
   ]
  },
  {
   "cell_type": "markdown",
   "id": "ab24c300",
   "metadata": {},
   "source": [
    "### Exercise 6: Plotting with matplotlib package\n",
    "Make 3 plots using matplotlib library:\n",
    "- Line plot\n",
    "- Bar plot\n",
    "- Pie chart\n"
   ]
  },
  {
   "cell_type": "code",
   "execution_count": 31,
   "id": "c946a6e2",
   "metadata": {},
   "outputs": [
    {
     "data": {
      "image/png": "[encoded data removed]",
      "text/plain": [
       "<Figure size 640x480 with 1 Axes>"
      ]
     },
     "metadata": {},
     "output_type": "display_data"
    },
    {
     "data": {
      "image/png": "[encoded data removed]",
      "text/plain": [
       "<Figure size 640x480 with 1 Axes>"
      ]
     },
     "metadata": {},
     "output_type": "display_data"
    },
    {
     "data": {
      "image/png": "[encoded data removed]",
      "text/plain": [
       "<Figure size 640x480 with 1 Axes>"
      ]
     },
     "metadata": {},
     "output_type": "display_data"
    }
   ],
   "source": [
    "import matplotlib.pyplot as plt\n",
    "\n",
    "# Values for graphs\n",
    "x = [1, 2, 3, 4, 5]\n",
    "y = [10, 20, 30, 40, 50]\n",
    "bar_values = [5, 10, 15, 20, 25]\n",
    "pie_sizes = [10, 20, 30, 40]\n",
    "\n",
    "# Line graph\n",
    "plt.plot(x, y)\n",
    "plt.show()\n",
    "\n",
    "# Bar graph\n",
    "plt.bar(x, bar_values)\n",
    "plt.show()\n",
    "\n",
    "# Pie graph\n",
    "plt.pie(pie_sizes)\n",
    "plt.show()\n"
   ]
  }
 ],
 "metadata": {
  "kernelspec": {
   "display_name": "Python 3",
   "language": "python",
   "name": "python3"
  },
  "language_info": {
   "codemirror_mode": {
    "name": "ipython",
    "version": 3
   },
   "file_extension": ".py",
   "mimetype": "text/x-python",
   "name": "python",
   "nbconvert_exporter": "python",
   "pygments_lexer": "ipython3",
   "version": "3.13.1"
  }
 },
 "nbformat": 4,
 "nbformat_minor": 5
}
