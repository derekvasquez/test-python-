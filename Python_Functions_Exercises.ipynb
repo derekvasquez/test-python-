{
 "cells": [
  {
   "cell_type": "markdown",
   "id": "7735b130",
   "metadata": {},
   "source": [
    "# 🔹 Python Functions - Student Exercises\n",
    "### **Instructions:**\n",
    "- Complete each exercise by writing a function.\n",
    "- Use loops (`for`, `while`) and `if` conditions where necessary.\n",
    "- Test your functions with different inputs.\n"
   ]
  },
  {
   "cell_type": "markdown",
   "id": "a46ed94b",
   "metadata": {},
   "source": [
    "## **📌 Exercise 1: Temperature Converter**\n",
    "### **Task:**  \n",
    "Write a function `celsius_to_fahrenheit(celsius)` that converts a temperature from Celsius to Fahrenheit.\n",
    "\n",
    "### **Formula:**\n",
    "$\n",
    "F = \\left(\\frac{9}{5} \\times C\\right) + 32\n",
    "$\n",
    "\n",
    "### **Example Runs:**"
   ]
  },
  {
   "cell_type": "code",
   "execution_count": 1,
   "id": "bbe9f001",
   "metadata": {},
   "outputs": [
    {
     "name": "stdout",
     "output_type": "stream",
     "text": [
      "32.0\n",
      "212.0\n"
     ]
    }
   ],
   "source": [
    "\n",
    "#define function\n",
    "def celsius_to_fahrenheit(c):\n",
    "    #forumla\n",
    "    F = (9/5 * c) + 32\n",
    "    #print\n",
    "    return (F)\n",
    "\n",
    "# Test cases\n",
    "print(celsius_to_fahrenheit(0))   # Expected: 32.0\n",
    "print(celsius_to_fahrenheit(100)) # Expected: 212.0"
   ]
  },
  {
   "cell_type": "markdown",
   "id": "94f89d3d",
   "metadata": {},
   "source": [
    "## **📌 Exercise 2: Multiplication Table Generator**\n",
    "### **Task:**  \n",
    "Write a function `multiplication_table(n)` that prints the multiplication table for a number up to 10.\n",
    "\n",
    "### **Example Run:**"
   ]
  },
  {
   "cell_type": "code",
   "execution_count": 2,
   "id": "4c6204d4",
   "metadata": {},
   "outputs": [
    {
     "name": "stdout",
     "output_type": "stream",
     "text": [
      "3 x 1 = 3\n",
      "3 x 2 = 6\n",
      "3 x 3 = 9\n",
      "3 x 4 = 12\n",
      "3 x 5 = 15\n",
      "3 x 6 = 18\n",
      "3 x 7 = 21\n",
      "3 x 8 = 24\n",
      "3 x 9 = 27\n",
      "3 x 10 = 30\n"
     ]
    }
   ],
   "source": [
    "#define function\n",
    "def multiplication_table(num):\n",
    "    #creating a range that shows 1-10\n",
    "    for n in range(1, 11):\n",
    "        #print \n",
    "        print(f\"{num} x {n} = {num * n}\")\n",
    "    \n",
    "# Test case\n",
    "multiplication_table(3)"
   ]
  },
  {
   "cell_type": "markdown",
   "id": "a89389f6",
   "metadata": {},
   "source": [
    "## **📌 Exercise 3: Check if a Number is Prime**\n",
    "### **Task:**  \n",
    "Write a function `is_prime(n)` that checks if a number `n` is prime. \n",
    "A prime number is a number greater than 1 that can only be divided by 1 and itself without leaving a remainder.\n",
    "\n",
    "### **Example Runs:**"
   ]
  },
  {
   "cell_type": "code",
   "execution_count": 21,
   "id": "bd6adc22",
   "metadata": {},
   "outputs": [
    {
     "name": "stdout",
     "output_type": "stream",
     "text": [
      "True\n",
      "False\n",
      "True\n"
     ]
    }
   ],
   "source": [
    "def is_prime(n):\n",
    "    # Check if number is greater than 1\n",
    "    if n <= 0:\n",
    "        return False\n",
    "    # Check divisibility\n",
    "    for p in range(2, int(n ** 0.5) + 1):\n",
    "        if n % p == 0:\n",
    "            return False\n",
    "    return True\n",
    "\n",
    "\n",
    "# Test cases\n",
    "print(is_prime(7))  # Expected: True\n",
    "print(is_prime(10)) # Expected: False\n",
    "print(is_prime(2))  # Expected: True"
   ]
  },
  {
   "cell_type": "markdown",
   "id": "a2e3e0b9",
   "metadata": {},
   "source": [
    "## **📌 Exercise 4: Counting Digits in a Number**\n",
    "### **Task:**  \n",
    "Write a function `sum_of_digits(n)` that calculates the sum of all digits in a number.\n",
    "\n",
    "### **Example Runs:**"
   ]
  },
  {
   "cell_type": "code",
   "execution_count": 22,
   "id": "afd7b3d1",
   "metadata": {},
   "outputs": [
    {
     "name": "stdout",
     "output_type": "stream",
     "text": [
      "6\n",
      "18\n",
      "17\n"
     ]
    }
   ],
   "source": [
    "def sum_of_digits(n):\n",
    "    total = 0\n",
    "    while n > 0:\n",
    "        total += n % 10\n",
    "        n = n // 10\n",
    "    return total\n",
    "\n",
    "# Test cases\n",
    "print(sum_of_digits(123))   # Expected output: 6 (1 + 2 + 3)\n",
    "print(sum_of_digits(567))   # Expected output: 18 (5 + 6 + 7)\n",
    "print(sum_of_digits(89))    # Expected output: 17 (8 + 9)"
   ]
  },
  {
   "cell_type": "markdown",
   "id": "766bd367",
   "metadata": {},
   "source": [
    "## **📌 Exercise 5: Find the Greatest of Three Numbers**\n",
    "### **Task:**  \n",
    "Write a function `max_of_three(a, b, c)` that returns the largest of three numbers.\n",
    "\n",
    "### **Example Runs:**"
   ]
  },
  {
   "cell_type": "code",
   "execution_count": 23,
   "id": "fd8d1f6c",
   "metadata": {},
   "outputs": [
    {
     "name": "stdout",
     "output_type": "stream",
     "text": [
      "(20, 'is the largest number')\n",
      "(8, 'is the largest number')\n",
      "(-2, 'is the largest number')\n"
     ]
    }
   ],
   "source": [
    "def max_of_three(a,b,c):\n",
    "    \n",
    "    if a >= b and a >= c:\n",
    "        return (a, \" is the largest number\")\n",
    "\n",
    "    elif b >= a and b >= c:\n",
    "        return (b, \"is the largest number\")\n",
    "        \n",
    "    elif c >= a and c >= b:\n",
    "        return (c , \"is the largest number\")\n",
    "\n",
    "# Test cases\n",
    "print(max_of_three(10, 20, 5))  # Expected: 20\n",
    "print(max_of_three(3, 8, 8))    # Expected: 8\n",
    "print(max_of_three(-5, -2, -10)) # Expected: -2"
   ]
  }
 ],
 "metadata": {
  "kernelspec": {
   "display_name": "Python 3",
   "language": "python",
   "name": "python3"
  },
  "language_info": {
   "codemirror_mode": {
    "name": "ipython",
    "version": 3
   },
   "file_extension": ".py",
   "mimetype": "text/x-python",
   "name": "python",
   "nbconvert_exporter": "python",
   "pygments_lexer": "ipython3",
   "version": "3.13.1"
  }
 },
 "nbformat": 4,
 "nbformat_minor": 5
}
