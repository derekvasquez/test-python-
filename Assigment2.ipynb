{
 "cells": [
  {
   "cell_type": "markdown",
   "id": "a97cd20f",
   "metadata": {},
   "source": [
    "# 🐍 Programming Assignment II: Repetition Structures"
   ]
  },
  {
   "cell_type": "markdown",
   "id": "3ed6c621",
   "metadata": {},
   "source": [
    "## Submission Instructions:\n",
    "- Complete all five exercises.\n",
    "- Ensure your code runs without errors.\n",
    "- Submit your .html file with clear comments explaining your logic.\n",
    "- Follow good programming practices such as meaningful variable names and proper indentation.\n",
    "\n",
    "Good luck! 🚀"
   ]
  },
  {
   "cell_type": "markdown",
   "id": "981ffebf",
   "metadata": {},
   "source": [
    "------------------------------------------------------------------------------------------------------------------------------------------------------------------------------------------------------------------------"
   ]
  },
  {
   "cell_type": "markdown",
   "id": "092911fe",
   "metadata": {},
   "source": [
    "## Exercise 1: Sum of Numbers Using a `for` Loop\n",
    "Write a program that asks the user for a **positive integer (n)** and then calculates the sum of all numbers from **1 to n** using a `for` loop.\n",
    "\n",
    "### Example Input:\n",
    "```\n",
    "Enter a positive integer: 5\n",
    "```\n",
    "### Example Output:\n",
    "```\n",
    "The sum of numbers from 1 to 5 is 15.\n",
    "```\n",
    "*(Explanation: 1 + 2 + 3 + 4 + 5 = 15)*"
   ]
  },
  {
   "cell_type": "code",
   "execution_count": 4,
   "id": "70266f60",
   "metadata": {},
   "outputs": [
    {
     "name": "stdout",
     "output_type": "stream",
     "text": [
      "The sum of numbers from 1 to 5 is 15.\n"
     ]
    }
   ],
   "source": [
    "#assigning function\n",
    "def sum_of_numbers():\n",
    "#input and print\n",
    "    n = int(input(\"Enter a positive integer: \"))\n",
    "    if n <= 0:\n",
    "        print(\"Please enter a positive integer.\")\n",
    "        return\n",
    "#initialize\n",
    "    total = 0\n",
    "#for loop\n",
    "    for i in range(1, n + 1):\n",
    "        total += i\n",
    "    \n",
    "    print(f\"The sum of numbers from 1 to {n} is {total}.\")\n",
    "\n",
    "sum_of_numbers()\n"
   ]
  },
  {
   "cell_type": "markdown",
   "id": "0d401f31",
   "metadata": {},
   "source": [
    "## Exercise 2 (15 points): Find the Largest Number Using a `for` Loop\n",
    "Write a program that asks the user to enter **5 numbers**, one at a time. After all numbers are entered, the program should display the **largest number**.\n",
    "\n",
    "### Example Input:\n",
    "```\n",
    "Enter number 1: 12\n",
    "Enter number 2: 45\n",
    "Enter number 3: 7\n",
    "Enter number 4: 89\n",
    "Enter number 5: 23\n",
    "```\n",
    "### Example Output:\n",
    "```\n",
    "The largest number is: 89\n",
    "```\n"
   ]
  },
  {
   "cell_type": "code",
   "execution_count": null,
   "id": "281667c3",
   "metadata": {},
   "outputs": [
    {
     "name": "stdout",
     "output_type": "stream",
     "text": [
      "The largest number is: 89.0\n"
     ]
    }
   ],
   "source": [
    "#def function\n",
    "def largest_number():\n",
    "    largest = float('-inf')  \n",
    "#for loop\n",
    "    for i in range(1, 6):\n",
    "        num = float(input(f\"Enter number {i}: \"))\n",
    "#condition to find largest = num\n",
    "        if num > largest:\n",
    "            largest = num\n",
    "    \n",
    "    print(f\"The largest number is: {largest}\")\n",
    "\n",
    "largest_number()\n"
   ]
  },
  {
   "cell_type": "markdown",
   "id": "d2b4241f",
   "metadata": {},
   "source": [
    "## Exercise 3: Guess the Secret Number Using a `while` Loop\n",
    "1. Generate a **random number** between **1 and 100**.\n",
    "2. Ask the user to guess the number.\n",
    "3. If the guess is too high, print **\"Too high! Try again.\"**.\n",
    "4. If the guess is too low, print **\"Too low! Try again.\"**.\n",
    "5. If the guess is correct, print **\"Correct! You guessed it in X tries.\"**.\n",
    "6. Use a **while** loop to keep asking until they guess correctly.\n",
    "\n",
    "### Example Flow:\n",
    "```\n",
    "I'm thinking of a number between 1 and 100...\n",
    "Enter your guess: 50\n",
    "Too high! Try again.\n",
    "Enter your guess: 30\n",
    "Too low! Try again.\n",
    "Enter your guess: 42\n",
    "Correct! You guessed it in 3 tries.\n",
    "```"
   ]
  },
  {
   "cell_type": "code",
   "execution_count": 6,
   "id": "f6bf8693",
   "metadata": {},
   "outputs": [
    {
     "name": "stdout",
     "output_type": "stream",
     "text": [
      "I'm thinking of a number between 1 and 100...\n",
      "Too high! Try again.\n",
      "Too high! Try again.\n",
      "Too high! Try again.\n",
      "Too high! Try again.\n",
      "Correct! You guessed it in 5 tries.\n"
     ]
    }
   ],
   "source": [
    "import random\n",
    "#def function\n",
    "def guess_secret_number():\n",
    "    secret_number = random.randint(1, 100)\n",
    "    attempts = 0\n",
    "    print(\"I'm thinking of a number between 1 and 100...\")\n",
    "#input to guess number    \n",
    "    while True:\n",
    "        guess = int(input(\"Enter your guess: \"))\n",
    "        attempts += 1\n",
    " #    wrong guess output   \n",
    "        if guess > secret_number:\n",
    "            print(\"Too high! Try again.\")\n",
    "        elif guess < secret_number:\n",
    "            print(\"Too low! Try again.\")\n",
    "# right guess output\n",
    "        else:\n",
    "            print(f\"Correct! You guessed it in {attempts} tries.\")\n",
    "#escape while loop\n",
    "            break\n",
    "\n",
    "guess_secret_number()\n"
   ]
  },
  {
   "cell_type": "markdown",
   "id": "68691580",
   "metadata": {},
   "source": [
    "## Exercise 4: Input Validation Using a `while` Loop\n",
    "Write a program that asks the user to enter a **positive number**. If the user enters a **negative number or zero**, the program should keep asking until they enter a valid number.\n",
    "\n",
    "### Example Input & Output:\n",
    "```\n",
    "Enter a positive number: -5\n",
    "Invalid! Please enter a positive number.\n",
    "Enter a positive number: 0\n",
    "Invalid! Please enter a positive number.\n",
    "Enter a positive number: 8\n",
    "You entered: 8\n",
    "```\n"
   ]
  },
  {
   "cell_type": "code",
   "execution_count": 7,
   "id": "368bb661",
   "metadata": {},
   "outputs": [
    {
     "name": "stdout",
     "output_type": "stream",
     "text": [
      "Invalid! Please enter a positive number.\n",
      "You entered: 2.0\n"
     ]
    }
   ],
   "source": [
    "#def function\n",
    "def get_positive_number():\n",
    "\n",
    "#while loop\n",
    "    while True:\n",
    "#input\n",
    "        number = float(input(\"Enter a positive number: \"))\n",
    "        if number > 0:\n",
    "            print(f\"You entered: {number}\")\n",
    "#escape while loop\n",
    "            break\n",
    "#condition\n",
    "        else:\n",
    "            print(\"Invalid! Please enter a positive number.\")\n",
    "\n",
    "get_positive_number()"
   ]
  },
  {
   "cell_type": "markdown",
   "id": "690e45da",
   "metadata": {},
   "source": [
    "## Exercise 5: Count Even and Odd Numbers Using a `for` Loop\n",
    "Write a program that asks the user to enter **a sequence of numbers (separated by spaces)**. The program should count how many numbers are **even** and how many are **odd**.\n",
    "\n",
    "### Example Input:\n",
    "```\n",
    "Enter numbers: 10 15 22 33 40 57 60\n",
    "```\n",
    "### Example Output:\n",
    "```\n",
    "Even numbers: 4\n",
    "Odd numbers: 3\n",
    "```\n"
   ]
  },
  {
   "cell_type": "code",
   "execution_count": null,
   "id": "83dfeaae",
   "metadata": {},
   "outputs": [
    {
     "name": "stdout",
     "output_type": "stream",
     "text": [
      "Even numbers: 4\n",
      "Odd numbers: 3\n"
     ]
    }
   ],
   "source": [
    "#def function\n",
    "def count_even_odd():\n",
    "    numbers = input(\"Enter numbers (separated by spaces): \").split()\n",
    "    even_count = 0\n",
    "    odd_count = 0\n",
    "#using \"numbers\" for (for loop)\n",
    "    for num in numbers:\n",
    "        if int(num) % 2 == 0:\n",
    "#counters\n",
    "            even_count += 1\n",
    "        else:\n",
    "            odd_count += 1\n",
    "    \n",
    "    print(f\"Even numbers: {even_count}\")\n",
    "    print(f\"Odd numbers: {odd_count}\")\n",
    "\n",
    "count_even_odd()\n"
   ]
  }
 ],
 "metadata": {
  "kernelspec": {
   "display_name": "Python 3",
   "language": "python",
   "name": "python3"
  },
  "language_info": {
   "codemirror_mode": {
    "name": "ipython",
    "version": 3
   },
   "file_extension": ".py",
   "mimetype": "text/x-python",
   "name": "python",
   "nbconvert_exporter": "python",
   "pygments_lexer": "ipython3",
   "version": "3.13.1"
  }
 },
 "nbformat": 4,
 "nbformat_minor": 5
}
