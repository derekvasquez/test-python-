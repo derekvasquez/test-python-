{
 "cells": [
  {
   "cell_type": "markdown",
   "metadata": {},
   "source": [
    "# 🐍 Midterm Exam Exercises\n",
    "\n",
    "This notebook contains the exercises you selected for the midterm. Each exercise includes:\n",
    "\n",
    "- A **Markdown cell** describing the problem, requirements, and sample I/O.\n",
    "- A **Code cell** where students can implement and test their solution.\n",
    "\n",
    "Good luck!"
   ]
  },
  {
   "cell_type": "markdown",
   "metadata": {},
   "source": [
    "## Exercise 1 (10 points): Basic Input and Output\n",
    "\n",
    "**Instructions**:\n",
    "1. Write a program that asks the user for their **first name** and **last name**.\n",
    "2. The program should then **print their full name in uppercase**.\n",
    "\n",
    "**Example Input**:\n",
    "```\n",
    "Enter your first name: John\n",
    "Enter your last name: Doe\n",
    "```\n",
    "\n",
    "**Example Output**:\n",
    "```\n",
    "Your full name in uppercase: JOHN DOE\n",
    "```"
   ]
  },
  {
   "cell_type": "code",
   "execution_count": 87,
   "metadata": {},
   "outputs": [
    {
     "name": "stdout",
     "output_type": "stream",
     "text": [
      "your full name in UPPERCASE:JOHN DOE\n"
     ]
    }
   ],
   "source": [
    "#ask for names\n",
    "first = input(\"enter your first name: \")\n",
    "\n",
    "last = input(\"enter your last name: \")\n",
    "\n",
    "full_name = f\"{first} {last}\"\n",
    "\n",
    "print(f\"your full name in UPPERCASE:{full_name.upper()}\")"
   ]
  },
  {
   "cell_type": "markdown",
   "id": "e8430e28",
   "metadata": {},
   "source": [
    "## Exercise 2 (20 points): Function for Salary Calculation\n",
    "\n",
    "**Instructions**:\n",
    "1. Define a function `calculate_salary()` that takes 2 arguments `hours_worked`, and `hourly_rate`, and calculates total salary.\n",
    "2. Return or print the total salary.\n",
    "\n",
    "_Formula example_:\n",
    "\n",
    "```\n",
    "total_salary = hours × hourly_rate\n",
    "```"
   ]
  },
  {
   "cell_type": "code",
   "execution_count": 88,
   "id": "e9713dbf",
   "metadata": {},
   "outputs": [
    {
     "data": {
      "text/plain": [
       "300"
      ]
     },
     "execution_count": 88,
     "metadata": {},
     "output_type": "execute_result"
    }
   ],
   "source": [
    "def calculate_salary(hours_worked, hourly_rate):\n",
    "    salary = hours_worked * hourly_rate\n",
    "    return salary\n",
    "\n",
    "calculate_salary(15, 20)"
   ]
  },
  {
   "cell_type": "markdown",
   "id": "f55a2be1",
   "metadata": {},
   "source": [
    "## Exercise 3 (15 Points): If Statement – Leap Year Checker\n",
    "\n",
    "**Instructions**:\n",
    "1. Prompt the user to enter a year.\n",
    "2. Check if it is a leap year by applying the standard rules:\n",
    "   - If the year can be divided evenly by 4, it might be a leap year.\n",
    "   - But if the year can also be divided by 100, it is not a leap year (unless…).\n",
    "   - If the year can be divided by 400, then it is a leap year.\n",
    "3. Display “This is a leap year.” or “Not a leap year.” accordingly.\n",
    "\n",
    "**Examples**:\n",
    "```\n",
    "2024 → Divisible by 4 → Leap year \n",
    "1900 → Divisible by 4, but also by 100 → Not a leap year\n",
    "2000 → Divisible by 4, by 100, and by 400 → Leap year\n",
    "```"
   ]
  },
  {
   "cell_type": "code",
   "execution_count": 89,
   "metadata": {},
   "outputs": [
    {
     "name": "stdout",
     "output_type": "stream",
     "text": [
      "this is a leap year.\n"
     ]
    }
   ],
   "source": [
    "# Sign % is used for division and return the remainder\n",
    "\n",
    "year = int(input(\"Enter a year: \"))\n",
    "\n",
    "if (year % 4 == 0 and year % 100 != 0) or (year % 400 == 0):\n",
    "    print(\"this is a leap year.\")\n",
    "else:\n",
    "    print(\"not a leap year.\")\n",
    "\n"
   ]
  },
  {
   "cell_type": "markdown",
   "metadata": {},
   "source": [
    "## Exercise 4 (15 points): For Loop & String Processing\n",
    "\n",
    "**Instructions**:\n",
    "1. Write a function that takes a sentence (string) as input.\n",
    "2. Use a `for` loop to iterate through each character in the string.\n",
    "3. Count how many times the letter ‘a’ (uppercase **or** lowercase) appears.\n",
    "4. Print out the count.\n",
    "\n",
    "**Example Input**:\n",
    "```\n",
    "count_letter('An apple a day keeps the doctor away').\n",
    "```\n",
    "\n",
    "**Example Output**:\n",
    "```\n",
    "The letter 'a' appears 6 times.\n",
    "```"
   ]
  },
  {
   "cell_type": "code",
   "execution_count": 90,
   "metadata": {},
   "outputs": [
    {
     "name": "stdout",
     "output_type": "stream",
     "text": [
      "the letter 'a' appears 6 times.\n"
     ]
    }
   ],
   "source": [
    "def count_letter(sentence):\n",
    "    count = 0\n",
    "    for char in sentence:\n",
    "        if char.lower() == 'a':\n",
    "            count += 1\n",
    "    print(f\"the letter 'a' appears {count} times.\")\n",
    "\n",
    "count_letter('An apple a day keeps the doctor away')"
   ]
  },
  {
   "cell_type": "markdown",
   "metadata": {},
   "source": [
    "## Exercise 5 (25 Points): While Loop – Guess the Random Number\n",
    "\n",
    "**Instructions**:\n",
    "1. Use Python’s `random` module to generate a secret random integer, say in the range 1 to 50.\n",
    "2. Prompt the user to guess the number.\n",
    "3. In a loop:\n",
    "   - If the guess higher than the actual number, say \"Too high! Guess again.\".\n",
    "   - If the guess is lower, say \"Too low! Guess again.\".\n",
    "   - If the guess is correct, print \"Correct!\" and break out of the loop.\n",
    "4. *(Optional)* Count how many guesses they made, and display it at the end.\n",
    "\n",
    "**Example Flow**:\n",
    "```\n",
    "I'm thinking of a number between 1 and 50...\n",
    "Enter your guess: 25\n",
    "Too low. Try again.\n",
    "Enter your guess: 40\n",
    "Too high. Try again.\n",
    "Enter your guess: 32\n",
    "Too low. Try again.\n",
    "Enter your guess: 36\n",
    "Correct! You guessed it in 4 tries.\n",
    "```"
   ]
  },
  {
   "cell_type": "code",
   "execution_count": 91,
   "metadata": {},
   "outputs": [
    {
     "name": "stdout",
     "output_type": "stream",
     "text": [
      "I'm thinking of a number between 1 and 50...\n",
      "Too high Try again.\n",
      "Too high Try again.\n",
      "Too high Try again.\n",
      "Too low Try again.\n",
      "Too high Try again.\n",
      "Too high Try again.\n",
      "Correct! You guessed it in 7 tries.\n"
     ]
    }
   ],
   "source": [
    "\n",
    "import random\n",
    "# heere you want to use function random.randint(x,y)\n",
    "\n",
    "secret_number = random.randint(1, 50)\n",
    "\n",
    "guess_count = 0\n",
    "print(\"I'm thinking of a number between 1 and 50...\")\n",
    "\n",
    "while True:\n",
    "    guess = int(input(\"Enter your guess: \"))\n",
    "    guess_count += 1  \n",
    "\n",
    "    if guess < secret_number:\n",
    "        print(\"Too low Try again.\")\n",
    "    elif guess > secret_number:\n",
    "        print(\"Too high Try again.\")\n",
    "    else:\n",
    "        print(f\"Correct! You guessed it in {guess_count} tries.\")\n",
    "        break "
   ]
  },
  {
   "cell_type": "markdown",
   "metadata": {},
   "source": [
    "## Exercise 6 (15 points): String Manipulation – Generate Login\n",
    "\n",
    "**Instructions**:\n",
    "1. Write a function `generate_login(first_name, last_name, student_id)` that:\n",
    "   - Takes the first **3 characters** of `first_name` (or the entire name if it’s shorter than 3 letters).\n",
    "   - Takes the first **3 characters** of `last_name` (or the entire name if it’s shorter than 3 letters).\n",
    "   - Takes the **last 3 characters** of `student_id`.\n",
    "   - Concatenates these parts into a single string.\n",
    "\n",
    "**Example Input**:\n",
    "```\n",
    "Enter first name: Amanda\n",
    "Enter last name: Spencer\n",
    "Enter student ID: ENG6721\n",
    "```\n",
    "\n",
    "**Example Output**:\n",
    "```\n",
    "Generated login: AmaSpe721\n",
    "```"
   ]
  },
  {
   "cell_type": "code",
   "execution_count": 92,
   "metadata": {},
   "outputs": [
    {
     "name": "stdout",
     "output_type": "stream",
     "text": [
      "amaspe6721\n"
     ]
    }
   ],
   "source": [
    "def generate_login(first_name, last_name, student_id):\n",
    "    first_name1 = first_name[:3]\n",
    "    last_name1 = last_name[:3]\n",
    "    student_id1 = student_id[3:]\n",
    "    login = first_name1 + last_name1 + student_id1\n",
    "    print(login)\n",
    "\n",
    "generate_login(\"amanda\", \"spencer\", \"eng6721\")\n"
   ]
  }
 ],
 "metadata": {
  "colab": {
   "name": "MidtermExercises.ipynb",
   "provenance": []
  },
  "kernelspec": {
   "display_name": "Python 3",
   "language": "python",
   "name": "python3"
  },
  "language_info": {
   "codemirror_mode": {
    "name": "ipython",
    "version": 3
   },
   "file_extension": ".py",
   "mimetype": "text/x-python",
   "name": "python",
   "nbconvert_exporter": "python",
   "pygments_lexer": "ipython3",
   "version": "3.13.1"
  }
 },
 "nbformat": 4,
 "nbformat_minor": 5
}
