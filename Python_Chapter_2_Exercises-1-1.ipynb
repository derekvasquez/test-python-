{
 "cells": [
  {
   "cell_type": "markdown",
   "id": "9d1770ff",
   "metadata": {},
   "source": [
    "# 🐍 Python Chapter 2: In-Class Exercise \n",
    "\n",
    "## **Instructions**\n",
    "- Complete the following exercises by writing Python code in the provided cells.\n",
    "- Follow the instructions carefully and test your code.\n",
    "- If an error occurs, debug and correct it before moving on.\n",
    "- Run each cell to see the results.\n",
    "- Submit .html file to canvas\n",
    "---\n"
   ]
  },
  {
   "cell_type": "markdown",
   "id": "f6fb13c6",
   "metadata": {},
   "source": [
    "## **Exercise 1: Displaying Output**  \n",
    "Write a program that prints the following output using the `print()` function:  \n",
    "\n",
    "```\n",
    "Hello, Python!\n",
    "Welcome to programming.\n",
    "```  \n"
   ]
  },
  {
   "cell_type": "code",
   "execution_count": null,
   "id": "5e145ea4",
   "metadata": {},
   "outputs": [
    {
     "name": "stdout",
     "output_type": "stream",
     "text": [
      "Hello, Python!\n",
      "Welcome to programming.\n"
     ]
    }
   ],
   "source": [
    "#I used print lines to create the message\n",
    "print('Hello, Python!')\n",
    "print('Welcome to programming.')"
   ]
  },
  {
   "cell_type": "markdown",
   "id": "ef095bf0",
   "metadata": {},
   "source": [
    "## **Exercise 2: User Input**  \n",
    "Write a program that asks the user for their name and age, then prints a message saying:  \n",
    "\n",
    "```\n",
    "Hello, [name]! You are [age] years old.\n",
    "```  \n"
   ]
  },
  {
   "cell_type": "code",
   "execution_count": 89,
   "id": "467ebabb",
   "metadata": {},
   "outputs": [
    {
     "name": "stdout",
     "output_type": "stream",
     "text": [
      "Hello, Derek! You are 21 years old.\n"
     ]
    }
   ],
   "source": [
    "name = input(\"What is your name? \")\n",
    "#used input to create prompt for user to input name\n",
    "age = int(input(\"How old are you? \")) \n",
    "#used int(input) to create age prompt\n",
    "print(\"Hello, \" + name + \"! You are \" + str(age) + \" years old.\")\n"
   ]
  },
  {
   "cell_type": "markdown",
   "id": "3a388df3",
   "metadata": {},
   "source": [
    "## **Exercise 3: Performing Calculations**  \n",
    "Write a program that asks the user for two numbers and prints their sum, difference, and product.  \n"
   ]
  },
  {
   "cell_type": "code",
   "execution_count": 90,
   "id": "e1149b58",
   "metadata": {},
   "outputs": [
    {
     "name": "stdout",
     "output_type": "stream",
     "text": [
      "Sum: 12\n",
      "Difference: 8\n",
      "Product: 20\n"
     ]
    }
   ],
   "source": [
    "# Ask the user for two numbers\n",
    "number_1 = int(input('Please enter number 1: '))\n",
    "number_2 = int(input('Please enter number 2: '))\n",
    "\n",
    "# Math calculation portion\n",
    "sum = number_1 + number_2\n",
    "difference = number_1 - number_2\n",
    "product = number_1 * number_2\n",
    "\n",
    "# Display results to user\n",
    "print('Sum:', sum)\n",
    "print('Difference:', difference)\n",
    "print('Product:', product)\n"
   ]
  },
  {
   "cell_type": "markdown",
   "id": "9541d17c",
   "metadata": {},
   "source": [
    "## **Exercise 4: Variable Reassignment**  \n",
    "Write a program that assigns a number to a variable, prints it, then reassigns a new value and prints it again.\n"
   ]
  },
  {
   "cell_type": "code",
   "execution_count": 91,
   "id": "37861f47",
   "metadata": {},
   "outputs": [
    {
     "name": "stdout",
     "output_type": "stream",
     "text": [
      "Initial value: 10\n",
      "Updated value: 25\n"
     ]
    }
   ],
   "source": [
    "# Assign a number (10) then print\n",
    "number = 10\n",
    "print(\"Initial value:\", number)\n",
    "\n",
    "# Reassign a new value then print\n",
    "number = 25\n",
    "print(\"Updated value:\", number)\n",
    "\n"
   ]
  },
  {
   "cell_type": "markdown",
   "id": "ec27ebc8",
   "metadata": {},
   "source": [
    "## **Exercise 5: String Concatenation**  \n",
    "Write a program that asks for the user's first and last name separately, then prints their full name.\n"
   ]
  },
  {
   "cell_type": "code",
   "execution_count": 92,
   "id": "03122f62",
   "metadata": {},
   "outputs": [
    {
     "name": "stdout",
     "output_type": "stream",
     "text": [
      "Your first name is Derek\n",
      "Your last name is Vasquez\n",
      "Your whole name together is Derek Vasquez\n"
     ]
    }
   ],
   "source": [
    "#added input lines to ask for first and last name\n",
    "first_name = input(str('Enter your first name: '))\n",
    "last_name = input(str('Enter your last name: '))\n",
    "#added print lines to display names\n",
    "print('Your first name is', first_name)\n",
    "print('Your last name is', last_name)\n",
    "#added final print lines to display them together\n",
    "print('Your whole name together is', first_name + \" \" + last_name)"
   ]
  },
  {
   "cell_type": "markdown",
   "id": "0e920415",
   "metadata": {},
   "source": [
    "## **Exercise 6: Flow of Execution**  \n",
    "Write a program that first prints \"Start\", then waits for user input, and finally prints \"End\".\n"
   ]
  },
  {
   "cell_type": "code",
   "execution_count": 93,
   "id": "a0ea3b8b",
   "metadata": {},
   "outputs": [
    {
     "name": "stdout",
     "output_type": "stream",
     "text": [
      "Start\n",
      "End\n"
     ]
    }
   ],
   "source": [
    "#print start line\n",
    "print('Start')\n",
    "#waiting for user input \n",
    "input(str(\"Press Enter to continue...\"))\n",
    "#print end line\n",
    "print('End')"
   ]
  },
  {
   "cell_type": "markdown",
   "id": "49bfeab3",
   "metadata": {},
   "source": [
    "## **Exercise 7: Using Named Constants**  \n",
    "Define a constant for the interest rate and use it to calculate the new balance after applying interest.  \n",
    "\n",
    "- Define a constant named `INTEREST_RATE` and set it to **5% (0.05)**.  \n",
    "- Ask the user to enter their **initial balance** as a floating-point number.  \n",
    "- Calculate the **new balance** using the formula:  \n",
    "\n",
    "  $ \\text{new\\_balance} = \\text{balance} \\times (1 + \\text{INTEREST\\_RATE}) $\n",
    "\n",
    "- Display the new balance result\n"
   ]
  },
  {
   "cell_type": "code",
   "execution_count": 94,
   "id": "9ad0fc04",
   "metadata": {},
   "outputs": [
    {
     "name": "stdout",
     "output_type": "stream",
     "text": [
      "Your new balance after interest is: 10.5\n"
     ]
    }
   ],
   "source": [
    "# Define the constant interest rate\n",
    "INTEREST_RATE = 0.05\n",
    "\n",
    "# Ask the user to enter their initial balance\n",
    "balance = float(input(\"Enter your initial balance: \"))\n",
    "\n",
    "# Calculate the new balance\n",
    "new_balance = balance * (1 + INTEREST_RATE)\n",
    "\n",
    "# Display the new balance\n",
    "print(\"Your new balance after interest is:\", round(new_balance, 2))"
   ]
  }
 ],
 "metadata": {
  "kernelspec": {
   "display_name": "Python 3",
   "language": "python",
   "name": "python3"
  },
  "language_info": {
   "codemirror_mode": {
    "name": "ipython",
    "version": 3
   },
   "file_extension": ".py",
   "mimetype": "text/x-python",
   "name": "python",
   "nbconvert_exporter": "python",
   "pygments_lexer": "ipython3",
   "version": "3.13.1"
  }
 },
 "nbformat": 4,
 "nbformat_minor": 5
}
