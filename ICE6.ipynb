{
 "cells": [
  {
   "cell_type": "markdown",
   "metadata": {},
   "source": [
    "# 🐍 ICE 6: Basic String Functions\n",
    "\n",
    "This notebook contains five in-class exercises (ICE) focusing on basic string functions such as `split()`, `lower()`, `upper()`, slicing, `strip()`, and `replace()`."
   ]
  },
  {
   "cell_type": "markdown",
   "metadata": {},
   "source": [
    "## ICE 1: Word Counter\n",
    "\n",
    "**Task:**\n",
    "- Prompt the user to enter a sentence.\n",
    "- Use the `split()` function to break the sentence into words.\n",
    "- Print the total number of words."
   ]
  },
  {
   "cell_type": "code",
   "execution_count": 23,
   "metadata": {},
   "outputs": [
    {
     "name": "stdout",
     "output_type": "stream",
     "text": [
      "Total number of words: 3\n"
     ]
    }
   ],
   "source": [
    "#ask user for input\n",
    "sentence = input(\"enter a sentance: \")\n",
    "#sentence split command\n",
    "words = sentence.split()\n",
    "#print\n",
    "print(\"Total number of words:\", len(words))\n"
   ]
  },
  {
   "cell_type": "markdown",
   "metadata": {},
   "source": [
    "## ICE 2: Case Conversion\n",
    "\n",
    "**Task:**\n",
    "- Define a string (for example, \"Hello World\").\n",
    "- Print the string in lowercase using and in uppercase using appropirate methods."
   ]
  },
  {
   "cell_type": "code",
   "execution_count": 24,
   "metadata": {},
   "outputs": [
    {
     "name": "stdout",
     "output_type": "stream",
     "text": [
      "Lowercase: hello world\n",
      "Uppercase: HELLO WORLD\n"
     ]
    }
   ],
   "source": [
    "#define string\n",
    "text = \"Hello World\" \n",
    "\n",
    "# Convert to lowercase\n",
    "print(\"Lowercase:\",text.lower())  \n",
    "# Convert to upper case\n",
    "print(\"Uppercase:\",text.upper())"
   ]
  },
  {
   "cell_type": "markdown",
   "metadata": {},
   "source": [
    "## ICE 3: Substring Extractor\n",
    "\n",
    "**Task:**\n",
    "- Given a string variable, extract the first 5 characters and the last 5 characters using slicing.\n",
    "- If the string is shorter than 5 characters, print the string itself."
   ]
  },
  {
   "cell_type": "code",
   "execution_count": 25,
   "metadata": {},
   "outputs": [
    {
     "name": "stdout",
     "output_type": "stream",
     "text": [
      "Output: dereksquez\n"
     ]
    }
   ],
   "source": [
    "# Get user\n",
    "string1 = input(\"Enter a string: \")  \n",
    "\n",
    "# Print the string if it's shorter than 5\n",
    "if len(string1) < 5:\n",
    "    print(\"Output:\", string1)  \n",
    "\n",
    "\n",
    "else:\n",
    "    # the first 5 \n",
    "    first_five = string1[:5] \n",
    "     # the last 5 \n",
    "    last_five = string1[-5:] \n",
    "    #add together and print\n",
    "    print(\"Output:\", first_five + last_five) \n"
   ]
  },
  {
   "cell_type": "markdown",
   "metadata": {},
   "source": [
    "## ICE 4: Name List Splitter\n",
    "\n",
    "**Task:**\n",
    "- Define a string containing names separated by commas (e.g., \"Alice, Bob, Charlie, Dana\").\n",
    "- Use `split()` method to convert the string into a list of names.\n",
    "- Print the resulting list."
   ]
  },
  {
   "cell_type": "code",
   "execution_count": 28,
   "metadata": {},
   "outputs": [
    {
     "name": "stdout",
     "output_type": "stream",
     "text": [
      "['Alice', 'Bob', 'Charlie', 'Dana']\n"
     ]
    }
   ],
   "source": [
    "# Define a name string separated by commas\n",
    "names = \"Alice, Bob, Charlie, Dana\"\n",
    "\n",
    "# Split the string into a list using \", \" \n",
    "name_list = names.split(\", \")\n",
    "\n",
    "# Print the list\n",
    "print(name_list)\n"
   ]
  },
  {
   "cell_type": "markdown",
   "metadata": {},
   "source": [
    "## ICE 5: Character Replacement\n",
    "\n",
    "**Task:**\n",
    "- Prompt the user for a sentence.\n",
    "- Replace every occurrence of the letter `'a'` with `'@'` using the appropriate method.\n",
    "- Print the modified sentence."
   ]
  },
  {
   "cell_type": "code",
   "execution_count": null,
   "metadata": {},
   "outputs": [
    {
     "data": {
      "text/plain": [
       "'@lice went to the p@rk'"
      ]
     },
     "execution_count": 30,
     "metadata": {},
     "output_type": "execute_result"
    }
   ],
   "source": [
    "# Prompt the user for sentence\n",
    "sentence = input(\"Enter a sentence: \")\n",
    "\n",
    "# Replace 'a' with '@'\n",
    "modified_sentence = sentence.replace('a', '@')\n",
    "\n",
    "# Print the new sentence\n",
    "print(modified_sentence)\n"
   ]
  }
 ],
 "metadata": {
  "kernelspec": {
   "display_name": "Python 3",
   "language": "python",
   "name": "python3"
  },
  "language_info": {
   "codemirror_mode": {
    "name": "ipython",
    "version": 3
   },
   "file_extension": ".py",
   "mimetype": "text/x-python",
   "name": "python",
   "nbconvert_exporter": "python",
   "pygments_lexer": "ipython3",
   "version": "3.13.1"
  }
 },
 "nbformat": 4,
 "nbformat_minor": 2
}
