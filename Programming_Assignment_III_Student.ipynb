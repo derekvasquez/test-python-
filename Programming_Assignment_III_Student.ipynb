{
 "cells": [
  {
   "cell_type": "markdown",
   "id": "7b86ea8c",
   "metadata": {},
   "source": [
    "# 🐍 Programming Assignment III: Functions in Python\n",
    "\n",
    "**Instructions:**\n",
    "- Complete each of the five exercises by writing a function as described.\n",
    "- Do not modify the test cases provided.\n",
    "- Your function should produce the expected output shown in each example.\n",
    "- Use comments in your code and markdown blocks to explain your logic!!\n",
    "- Do not use global variables.\n",
    "- Run the notebook after completing each exercise to check your work and submit .html report to Canvas."
   ]
  },
  {
   "cell_type": "markdown",
   "id": "c72a7cd7",
   "metadata": {},
   "source": [
    "## Exercise 1: Even or Odd Counter\n",
    "Write a function `count_even_odd(numbers)` that takes a list of integers and returns the number of even and odd numbers."
   ]
  },
  {
   "cell_type": "code",
   "execution_count": 10,
   "id": "82e204af",
   "metadata": {},
   "outputs": [
    {
     "name": "stdout",
     "output_type": "stream",
     "text": [
      "(2, 3)\n",
      "(3, 0)\n"
     ]
    }
   ],
   "source": [
    "# def\n",
    "def count_even_odd(numbers):\n",
    "    #initializing \n",
    "    even_count = 0\n",
    "    odd_count = 0\n",
    "#for loop\n",
    "    for num in numbers:\n",
    "        #conditions\n",
    "        if num % 2 == 0:\n",
    "            even_count += 1\n",
    "        else:\n",
    "            odd_count += 1\n",
    "#return\n",
    "    return even_count, odd_count\n",
    "\n",
    "# Test cases (do not modify)\n",
    "print(count_even_odd([1, 2, 3, 4, 5]))  # Expected: (2, 3)\n",
    "print(count_even_odd([2, 4, 6]))        # Expected: (3, 0)"
   ]
  },
  {
   "cell_type": "markdown",
   "id": "3527cc0f",
   "metadata": {},
   "source": [
    "## Exercise 2: City Temperature Tracker\n",
    "\n",
    "In this exercise, you’ll write a function that helps track and analyze city temperatures.\n",
    "\n",
    "### Your Task:\n",
    "Write a function called `analyze_temperatures(city, temps_in_f)` that takes:\n",
    "\n",
    "- `city`: a string representing the name of a city  \n",
    "- `temps_in_f`: a **list of numbers** representing daily temperatures in **Fahrenheit**\n",
    "\n",
    "Your function should:\n",
    "\n",
    "1. Convert each temperature in the list from **Fahrenheit to Celsius** using the formula:  \n",
    "   $ \n",
    "   C = (F - 32) \\times \\frac{5}{9}\n",
    "   $ \n",
    "\n",
    "2. Calculate:\n",
    "   - The **average** temperature in Celsius  \n",
    "   - The **highest** temperature in Celsius  \n",
    "   - The **lowest** temperature in Celsius  \n",
    "\n",
    "3. Print a sentence using this format:\n"
   ]
  },
  {
   "cell_type": "code",
   "execution_count": 11,
   "id": "078f7de0",
   "metadata": {},
   "outputs": [
    {
     "name": "stdout",
     "output_type": "stream",
     "text": [
      "In Berlin, the average temperature is 23.89°C, with a high of 26.67°C and a low of 21.11°C.\n"
     ]
    }
   ],
   "source": [
    "def analyze_temperatures(city, temps_in_f):\n",
    "    # Convert Fahrenheit to Celsius\n",
    "    temps_in_c = [(f - 32) * 5/9 for f in temps_in_f]\n",
    "\n",
    "    # Calculate average, highest, and lowest\n",
    "    avg_c = sum(temps_in_c) / len(temps_in_c)\n",
    "    max_c = max(temps_in_c)\n",
    "    min_c = min(temps_in_c)\n",
    "\n",
    "    # Print the sentence with data\n",
    "    print(f\"In {city}, the average temperature is {avg_c:.2f}°C, \"\n",
    "          f\"with a high of {max_c:.2f}°C and a low of {min_c:.2f}°C.\")\n",
    "\n",
    "\n",
    "# Test case (do not modify)\n",
    "analyze_temperatures(\"Berlin\", [70, 75, 80]) # Expected Output:\n",
    "# In Berlin, the average temperature was 23.9°C, with a high of 26.7°C and a low of 21.1°C."
   ]
  },
  {
   "cell_type": "markdown",
   "id": "f23b688f",
   "metadata": {},
   "source": [
    "## Exercise 3: Secret Code Encoder\n",
    "Write two functions:\n",
    "- `encode_message(message)` replaces vowels with symbols: a→@, e→3, i→!, o→0, u→#\n",
    "- `decode_message(encoded)` converts the symbols back to the original vowels."
   ]
  },
  {
   "cell_type": "code",
   "execution_count": 12,
   "id": "f60f1a21",
   "metadata": {},
   "outputs": [
    {
     "name": "stdout",
     "output_type": "stream",
     "text": [
      "h3ll0 w0rld\n",
      "hello world\n"
     ]
    }
   ],
   "source": [
    "#def replacements\n",
    "def encode_message(message):\n",
    "    replacements = {'a': '@', 'e': '3', 'i': '!', 'o': '0', 'u': '#'}\n",
    "    encoded = ''\n",
    "    #for loop\n",
    "    for char in message:\n",
    "        #replace\n",
    "        encoded += replacements.get(char, char)\n",
    "    return encoded\n",
    "#def decode\n",
    "def decode_message(encoded):\n",
    "    reverse_replacements = {'@': 'a', '3': 'e', '!': 'i', '0': 'o', '#': 'u'}\n",
    "    decoded = ''\n",
    "    #for loop\n",
    "    for char in encoded:\n",
    "        #decode\n",
    "        decoded += reverse_replacements.get(char, char)\n",
    "    return decoded\n",
    "\n",
    "# Test cases (do not modify)\n",
    "print(encode_message(\"hello world\"))      # Expected: h3ll0 w0rld\n",
    "print(decode_message(\"h3ll0 w0rld\"))      # Expected: hello world\n"
   ]
  },
  {
   "cell_type": "markdown",
   "id": "e307b56b",
   "metadata": {},
   "source": [
    "## Exercise 4: Custom Calculator\n",
    "Write a function `custom_calculator(a, b, operation)` that performs the selected operation on two numbers.\n",
    "- Supported operations: 'add', 'subtract', 'multiply', 'divide'\n",
    "- Print the operation and result in a readable sentence.\n",
    "- Handle division by zero."
   ]
  },
  {
   "cell_type": "code",
   "execution_count": 13,
   "id": "8c911722",
   "metadata": {},
   "outputs": [
    {
     "name": "stdout",
     "output_type": "stream",
     "text": [
      "5 + 3 = 8\n",
      "10 / 2 = 5.0\n",
      "Error: Cannot divide by zero.\n"
     ]
    }
   ],
   "source": [
    "#def calc\n",
    "def custom_calculator(a, b, operation):\n",
    "    #add\n",
    "    if operation == 'add':\n",
    "        result = a + b\n",
    "        print(f\"{a} + {b} = {result}\")\n",
    "    #subtract\n",
    "    elif operation == 'subtract':\n",
    "        result = a - b\n",
    "        print(f\"{a} - {b} = {result}\")\n",
    "    #multiply\n",
    "    elif operation == 'multiply':\n",
    "        result = a * b\n",
    "        print(f\"{a} * {b} = {result}\")\n",
    "    #divide\n",
    "    elif operation == 'divide':\n",
    "        #fail safe\n",
    "        if b == 0:\n",
    "            print(\"Error: Cannot divide by zero.\")\n",
    "        else:\n",
    "            result = a / b\n",
    "            print(f\"{a} / {b} = {result}\")\n",
    "    #condition\n",
    "    else:\n",
    "        print(\"Unsupported operation. Please choose from 'add', 'subtract', 'multiply', or 'divide'.\")\n",
    "\n",
    "# Test cases (do not modify)\n",
    "# Expected: Adding 5 and 3 gives 8\n",
    "custom_calculator(5, 3, \"add\")\n",
    "\n",
    "# Expected: Dividing 10 by 2 gives 5.0\n",
    "custom_calculator(10, 2, \"divide\")\n",
    "\n",
    "# Expected: Cannot divide by zero\n",
    "custom_calculator(7, 0, \"divide\")\n"
   ]
  },
  {
   "cell_type": "markdown",
   "id": "f6c39e55",
   "metadata": {},
   "source": [
    "## Exercise 5: Silly Story Generator\n",
    "Write a function `generate_story(name, place, object, emotion)` that:\n",
    "- Capitalizes the first letter of the name (check capitalize() function in Python).\n",
    "- Converts the emotion to ALL CAPS\n",
    "- Returns a multi-line string using all inputs."
   ]
  },
  {
   "cell_type": "code",
   "execution_count": 14,
   "id": "87be71cf",
   "metadata": {},
   "outputs": [
    {
     "name": "stdout",
     "output_type": "stream",
     "text": [
      "\n",
      "One day, Lena went to library carrying a mysterious banana.\n",
      "Everyone in library was shocked, but Lena felt nothing but SURPRISE!\n",
      "What happened next is still a mystery...\n",
      "\n"
     ]
    }
   ],
   "source": [
    "#def\n",
    "def generate_story(name, place, object, emotion):\n",
    "#capitalize and uppper\n",
    "    name = name.capitalize()\n",
    "    emotion = emotion.upper()\n",
    "\n",
    "#pre determined story with user input\n",
    "    story = f\"\"\"\n",
    "One day, {name} went to {place} carrying a mysterious {object}.\n",
    "Everyone in {place} was shocked, but {name} felt nothing but {emotion}!\n",
    "What happened next is still a mystery...\n",
    "\"\"\"\n",
    "    return story\n",
    "\n",
    "# Test case (do not modify)\n",
    "# Expected:\n",
    "# One day, Lena went to library with a banana in hand.\n",
    "# Suddenly, they felt SURPRISE!!!.\n",
    "# It was the beginning of something unexpected...\n",
    "print(generate_story(\"lena\", \"library\", \"banana\", \"surprise\"))\n"
   ]
  }
 ],
 "metadata": {
  "kernelspec": {
   "display_name": "Python 3",
   "language": "python",
   "name": "python3"
  },
  "language_info": {
   "codemirror_mode": {
    "name": "ipython",
    "version": 3
   },
   "file_extension": ".py",
   "mimetype": "text/x-python",
   "name": "python",
   "nbconvert_exporter": "python",
   "pygments_lexer": "ipython3",
   "version": "3.13.1"
  }
 },
 "nbformat": 4,
 "nbformat_minor": 5
}
