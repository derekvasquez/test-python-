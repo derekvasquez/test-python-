{
 "cells": [
  {
   "cell_type": "markdown",
   "id": "3d87e8d9",
   "metadata": {},
   "source": [
    "# 🐍 Midterm Pracise Exercises"
   ]
  },
  {
   "cell_type": "markdown",
   "id": "5038d337",
   "metadata": {},
   "source": [
    "Write a Python program that asks the user for their name and age.\n",
    "Print a greeting message that includes their name and the age they will be next year.\n",
    "\n",
    "**Example Output:**\n",
    "```\n",
    "Enter your name: Alice\n",
    "Enter your age: 20\n",
    "Hello Alice! Next year, you will be 21.\n",
    "```"
   ]
  },
  {
   "cell_type": "code",
   "execution_count": 1,
   "id": "f49634a2",
   "metadata": {},
   "outputs": [
    {
     "name": "stdout",
     "output_type": "stream",
     "text": [
      "Hello derek! Next year, you will be 21.\n"
     ]
    }
   ],
   "source": [
    "name = input(\"Enter your name: \")\n",
    "age = int(input(\"Enter your age: \"))\n",
    "\n",
    "next_age = age + 1\n",
    "\n",
    "print(f\"Hello {name}! Next year, you will be {next_age}.\")"
   ]
  },
  {
   "cell_type": "markdown",
   "id": "5b89c1f4",
   "metadata": {},
   "source": [
    "Ask the user to enter two numbers.\n",
    "Calculate and print their sum, difference, product, and quotient.\n",
    "\n",
    "**Hint:** Use `+`, `-`, `*`, `/` operators."
   ]
  },
  {
   "cell_type": "code",
   "execution_count": 3,
   "id": "a26ab713",
   "metadata": {},
   "outputs": [
    {
     "name": "stdout",
     "output_type": "stream",
     "text": [
      "Sum: 3.0\n",
      "Difference: -1.0\n",
      "Product: 2.0\n",
      "Quotient: 0.5\n"
     ]
    }
   ],
   "source": [
    "\n",
    "num1 = float(input(\"Enter the first number: \"))\n",
    "num2 = float(input(\"Enter the second number: \"))\n",
    "\n",
    "sum_result = num1 + num2\n",
    "difference = num1 - num2\n",
    "product = num1 * num2\n",
    "quotient = num1 / num2 if num2 != 0 else \"undefined\"\n",
    "\n",
    "print(f\"Sum: {sum_result}\")\n",
    "print(f\"Difference: {difference}\")\n",
    "print(f\"Product: {product}\")\n",
    "print(f\"Quotient: {quotient}\")"
   ]
  },
  {
   "cell_type": "markdown",
   "id": "1e9fc076",
   "metadata": {},
   "source": [
    "Convert a given temperature from **Celsius to Fahrenheit** using the formula:\n",
    "```\n",
    "F = (9/5) * C + 32\n",
    "```\n",
    "**Example Output:**\n",
    "```\n",
    "Enter temperature in Celsius: 25\n",
    "Temperature in Fahrenheit: 77.0\n",
    "```"
   ]
  },
  {
   "cell_type": "code",
   "execution_count": null,
   "id": "aa71d550",
   "metadata": {},
   "outputs": [],
   "source": [
    "celsius = float(input(\"Enter temperature in Celsius: \"))\n",
    "fahrenheit = (9/5) * celsius + 32\n",
    "print(f\"Temperature in Fahrenheit: {fahrenheit}\")\n"
   ]
  },
  {
   "cell_type": "markdown",
   "id": "7f238210",
   "metadata": {},
   "source": [
    "Ask for a first name, last name, and age.\n",
    "Print the details in a neatly formatted manner:\n",
    "```\n",
    "Name: John Doe\n",
    "Age: 25\n",
    "```"
   ]
  },
  {
   "cell_type": "code",
   "execution_count": null,
   "id": "d15b890e",
   "metadata": {},
   "outputs": [],
   "source": [
    "first_name = input(\"Enter your first name: \")\n",
    "last_name = input(\"Enter your last name: \")\n",
    "age = int(input(\"Enter your age: \"))\n",
    "\n",
    "print(\"\\nName:\", first_name, last_name)\n",
    "print(\"Age:\", age)\n"
   ]
  },
  {
   "cell_type": "markdown",
   "id": "61ff169f",
   "metadata": {},
   "source": [
    "Ask the user for their **favorite color** and **favorite animal**.\n",
    "Print a message:\n",
    "```\n",
    "Your favorite color is blue and your favorite animal is a tiger!\n",
    "```"
   ]
  },
  {
   "cell_type": "code",
   "execution_count": null,
   "id": "95c2ea8f",
   "metadata": {},
   "outputs": [],
   "source": [
    "color = input(\"Enter your favorite color: \")\n",
    "animal = input(\"Enter your favorite animal: \")\n",
    "\n",
    "print(f\"Your favorite color is {color} and your favorite animal is a {animal}!\")\n"
   ]
  },
  {
   "cell_type": "markdown",
   "id": "f88ef520",
   "metadata": {},
   "source": [
    "Ask for two numbers.\n",
    "Ensure the user **enters valid numeric input** (i.e., not letters).\n",
    "If invalid input is detected, prompt again."
   ]
  },
  {
   "cell_type": "code",
   "execution_count": null,
   "id": "acec18a8",
   "metadata": {},
   "outputs": [],
   "source": [
    "def get_number(prompt):\n",
    "    while True:\n",
    "        try:\n",
    "            return float(input(prompt))\n",
    "        except ValueError:\n",
    "            print(\"Invalid input. Please enter a number.\")\n",
    "\n",
    "num1 = get_number(\"Enter the first number: \")\n",
    "num2 = get_number(\"Enter the second number: \")\n",
    "\n",
    "print(f\"You entered {num1} and {num2}.\")\n"
   ]
  },
  {
   "cell_type": "markdown",
   "id": "e3f641cf",
   "metadata": {},
   "source": [
    "Ask the user for a number.\n",
    "Determine whether the number is **even or odd** using the modulo (`%`) operator."
   ]
  },
  {
   "cell_type": "code",
   "execution_count": null,
   "id": "c274fe82",
   "metadata": {},
   "outputs": [],
   "source": [
    "# Ask the user for a number\n",
    "number = int(input(\"Enter a number: \"))\n",
    "\n",
    "# Determine if the number is even or odd using the modulo operator\n",
    "if number % 2 == 0:\n",
    "    print(f\"{number} is an even number.\")\n",
    "else:\n",
    "    print(f\"{number} is an odd number.\")"
   ]
  },
  {
   "cell_type": "markdown",
   "id": "4f851a8c",
   "metadata": {},
   "source": [
    "Ask for an **initial investment amount**, **annual interest rate**, and **number of years**.\n",
    "Compute the **final amount** using **compound interest formula**:\n",
    "```\n",
    "A = P(1 + r/n)^(nt)\n",
    "```\n",
    "Assume `n=1` (compounded annually)."
   ]
  },
  {
   "cell_type": "code",
   "execution_count": null,
   "id": "fca2d1a5",
   "metadata": {},
   "outputs": [],
   "source": [
    "# Ask the user for inputs\n",
    "P = float(input(\"Enter the initial investment amount: \"))  # Principal amount\n",
    "r = float(input(\"Enter the annual interest rate (as a decimal): \"))  # Annual interest rate\n",
    "t = int(input(\"Enter the number of years: \"))  # Number of years\n",
    "n = 1  # Compounded annually\n",
    "\n",
    "# Calculate the final amount using the compound interest formula\n",
    "A = P * (1 + r / n) ** (n * t)\n",
    "\n",
    "# Display the result\n",
    "print(f\"The final amount after {t} years is: {A:.2f}\")"
   ]
  },
  {
   "cell_type": "markdown",
   "id": "d5acc43a",
   "metadata": {},
   "source": [
    "Ask for the **cost of a meal** and a **tip percentage**.\n",
    "Calculate the **total bill** including the tip."
   ]
  },
  {
   "cell_type": "code",
   "execution_count": null,
   "id": "58ed2fe3",
   "metadata": {},
   "outputs": [],
   "source": [
    "# Ask the user for inputs\n",
    "meal_cost = float(input(\"Enter the cost of the meal: \"))  # Cost of the meal\n",
    "tip_percentage = float(input(\"Enter the tip percentage (e.g., 15 for 15%): \"))  # Tip percentage\n",
    "\n",
    "# Calculate the tip amount and total bill\n",
    "tip_amount = meal_cost * (tip_percentage / 100)\n",
    "total_bill = meal_cost + tip_amount\n",
    "\n",
    "# Display the result\n",
    "print(f\"\\nMeal Cost: ${meal_cost:.2f}\")\n",
    "print(f\"Tip ({tip_percentage}%): ${tip_amount:.2f}\")\n",
    "print(f\"Total Bill: ${total_bill:.2f}\")"
   ]
  },
  {
   "cell_type": "markdown",
   "id": "244b56cd",
   "metadata": {},
   "source": [
    "Ask the user for their age. If they are **18 or older**, print `'You can vote!'`, otherwise print `'You can't vote yet.'`"
   ]
  },
  {
   "cell_type": "code",
   "execution_count": null,
   "id": "38e3975f",
   "metadata": {},
   "outputs": [],
   "source": [
    "# Ask the user for their age\n",
    "age = int(input(\"Enter your age: \"))\n",
    "\n",
    "# Check if the user is 18 or older\n",
    "if age >= 18:\n",
    "    print(\"You can vote!\")\n",
    "else:\n",
    "    print(\"You can't vote yet.\")"
   ]
  },
  {
   "cell_type": "markdown",
   "id": "73c29bdd",
   "metadata": {},
   "source": [
    "Ask for a student's score (0-100) and display their **letter grade** based on:\n",
    "- 90-100: A\n",
    "- 80-89: B\n",
    "- 70-79: C\n",
    "- 60-69: D\n",
    "- Below 60: F"
   ]
  },
  {
   "cell_type": "code",
   "execution_count": null,
   "id": "80e40229",
   "metadata": {},
   "outputs": [],
   "source": [
    "# Ask the user for the student's score\n",
    "score = int(input(\"Enter the student's score (0-100): \"))\n",
    "\n",
    "# Determine the letter grade based on the score\n",
    "if score >= 90 and score <= 100:\n",
    "    grade = \"A\"\n",
    "elif score >= 80 and score <= 89:\n",
    "    grade = \"B\"\n",
    "elif score >= 70 and score <= 79:\n",
    "    grade = \"C\"\n",
    "elif score >= 60 and score <= 69:\n",
    "    grade = \"D\"\n",
    "elif score >= 0 and score < 60:\n",
    "    grade = \"F\"\n",
    "else:\n",
    "    grade = \"Invalid score\"  # Handle scores outside the 0-100 range\n",
    "\n",
    "# Display the letter grade\n",
    "print(f\"The student's letter grade is: {grade}\")"
   ]
  },
  {
   "cell_type": "markdown",
   "id": "8c2a48fc",
   "metadata": {},
   "source": [
    "Ask the user for two numbers and print which number is larger or if they are equal."
   ]
  },
  {
   "cell_type": "code",
   "execution_count": null,
   "id": "4be5644f",
   "metadata": {},
   "outputs": [],
   "source": [
    "# Ask the user for two numbers\n",
    "num1 = float(input(\"Enter the first number: \"))\n",
    "num2 = float(input(\"Enter the second number: \"))\n",
    "\n",
    "# Compare the two numbers\n",
    "if num1 > num2:\n",
    "    print(f\"{num1} is larger than {num2}.\")\n",
    "elif num2 > num1:\n",
    "    print(f\"{num2} is larger than {num1}.\")\n",
    "else:\n",
    "    print(f\"{num1} and {num2} are equal.\")"
   ]
  },
  {
   "cell_type": "markdown",
   "id": "4bb5da0e",
   "metadata": {},
   "source": [
    "Simulate a basic login system. Ask for a **username** and **password**, then verify them."
   ]
  },
  {
   "cell_type": "code",
   "execution_count": null,
   "id": "43a7a689",
   "metadata": {},
   "outputs": [],
   "source": [
    "# Predefined correct username and password\n",
    "correct_username = \"admin\"\n",
    "correct_password = \"password123\"\n",
    "\n",
    "# Ask the user for their username and password\n",
    "username = input(\"Enter your username: \")\n",
    "password = input(\"Enter your password: \")\n",
    "\n",
    "# Verify the username and password\n",
    "if username == correct_username and password == correct_password:\n",
    "    print(\"Login successful! Welcome,\", username + \"!\")\n",
    "else:\n",
    "    print(\"Invalid username or password. Please try again.\")"
   ]
  },
  {
   "cell_type": "markdown",
   "id": "87ca6dd2",
   "metadata": {},
   "source": [
    "A **leap year** occurs every **4 years**, except for years divisible by **100 but not 400**.\n",
    "This means:\n",
    "- **2020, 2024** → Leap Years ✅\n",
    "- **1900, 2100** → Not Leap Years ❌\n",
    "- **2000, 2400** → Leap Years ✅\n",
    "\n",
    "Ask the user for a year and determine if it’s a leap year."
   ]
  },
  {
   "cell_type": "code",
   "execution_count": null,
   "id": "128998d8",
   "metadata": {},
   "outputs": [],
   "source": [
    "# Ask the user for a year\n",
    "year = int(input(\"Enter a year: \"))\n",
    "\n",
    "# Determine if the year is a leap year\n",
    "if (year % 4 == 0 and year % 100 != 0) or (year % 400 == 0):\n",
    "    print(f\"{year} is a leap year. ✅\")\n",
    "else:\n",
    "    print(f\"{year} is not a leap year. ❌\")"
   ]
  },
  {
   "cell_type": "markdown",
   "id": "151e34ba",
   "metadata": {},
   "source": [
    "Ask for total bill. If a customer spends **over $100**, apply a **10% discount**. Otherwise, charge the full price."
   ]
  },
  {
   "cell_type": "code",
   "execution_count": null,
   "id": "5d8731f2",
   "metadata": {},
   "outputs": [],
   "source": [
    "# Ask the user for the total bill\n",
    "total_bill = float(input(\"Enter the total bill: $\"))\n",
    "\n",
    "# Check if the bill is over $100\n",
    "if total_bill > 100:\n",
    "    discount = total_bill * 0.10  # Calculate 10% discount\n",
    "    final_amount = total_bill - discount\n",
    "    print(f\"Your bill is over $100. A 10% discount of ${discount:.2f} has been applied.\")\n",
    "else:\n",
    "    final_amount = total_bill  # No discount applied\n",
    "    print(\"No discount applied.\")\n",
    "\n",
    "# Display the final amount\n",
    "print(f\"Your final amount is: ${final_amount:.2f}\")"
   ]
  },
  {
   "cell_type": "markdown",
   "id": "77f6a376",
   "metadata": {},
   "source": [
    "Ask the user for a number (1-7) and print the corresponding **day of the week** (e.g., **1 = Monday, 7 = Sunday**)."
   ]
  },
  {
   "cell_type": "code",
   "execution_count": null,
   "id": "290eec57",
   "metadata": {},
   "outputs": [],
   "source": [
    "# Ask the user for a number (1-7)\n",
    "day_number = int(input(\"Enter a number (1-7): \"))\n",
    "\n",
    "# Map the number to the corresponding day of the week\n",
    "if day_number == 1:\n",
    "    day = \"Monday\"\n",
    "elif day_number == 2:\n",
    "    day = \"Tuesday\"\n",
    "elif day_number == 3:\n",
    "    day = \"Wednesday\"\n",
    "elif day_number == 4:\n",
    "    day = \"Thursday\"\n",
    "elif day_number == 5:\n",
    "    day = \"Friday\"\n",
    "elif day_number == 6:\n",
    "    day = \"Saturday\"\n",
    "elif day_number == 7:\n",
    "    day = \"Sunday\"\n",
    "else:\n",
    "    day = \"Invalid number. Please enter a number between 1 and 7.\"\n",
    "\n",
    "# Display the"
   ]
  },
  {
   "cell_type": "markdown",
   "id": "9c6f77b3",
   "metadata": {},
   "source": [
    "Ask for a **temperature** and check if it is within the range of **10-30°C**. If it is, display 'Temperature is great!' Otherwise display 'Too cold', if below 10 and 'Too hot' if above 30."
   ]
  },
  {
   "cell_type": "code",
   "execution_count": null,
   "id": "92f2851e",
   "metadata": {},
   "outputs": [],
   "source": [
    "# Ask the user for the temperature\n",
    "temperature = float(input(\"Enter the temperature in °C: \"))\n",
    "\n",
    "# Check the temperature range and display the appropriate message\n",
    "if 10 <= temperature <= 30:\n",
    "    print(\"Temperature is great!\")\n",
    "elif temperature < 10:\n",
    "    print(\"Too cold\")\n",
    "else:\n",
    "    print(\"Too hot\")"
   ]
  },
  {
   "cell_type": "markdown",
   "id": "598049a0",
   "metadata": {},
   "source": [
    "Ask for three **side lengths** and check if they form a **valid triangle** using the **triangle inequality theorem**:\n",
    "```\n",
    "A + B > C,  A + C > B,  B + C > A\n",
    "```"
   ]
  },
  {
   "cell_type": "code",
   "execution_count": null,
   "id": "95ec588b",
   "metadata": {},
   "outputs": [],
   "source": [
    "# Ask the user for three side lengths\n",
    "side_A = float(input(\"Enter the length of side A: \"))\n",
    "side_B = float(input(\"Enter the length of side B: \"))\n",
    "side_C = float(input(\"Enter the length of side C: \"))\n",
    "\n",
    "# Check if the sides form a valid triangle using the triangle inequality theorem\n",
    "if (side_A + side_B > side_C) and (side_A + side_C > side_B) and (side_B + side_C > side_A):\n",
    "    print(\"These sides form a valid triangle!\")\n",
    "else:\n",
    "    print(\"These sides do not form a valid triangle.\")"
   ]
  },
  {
   "cell_type": "markdown",
   "id": "c368e892",
   "metadata": {},
   "source": [
    "Print numbers from **1 to 10** using a `while` loop."
   ]
  },
  {
   "cell_type": "code",
   "execution_count": null,
   "id": "6ede1a23",
   "metadata": {},
   "outputs": [],
   "source": [
    "i = 1\n",
    "while i <= 10:\n",
    "    print(i)\n",
    "    i += 1"
   ]
  },
  {
   "cell_type": "markdown",
   "id": "55e4b600",
   "metadata": {},
   "source": [
    "Ask the user for a number **n** and compute the sum of numbers **1 to n**."
   ]
  },
  {
   "cell_type": "code",
   "execution_count": null,
   "id": "23a978de",
   "metadata": {},
   "outputs": [],
   "source": [
    "n = int(input(\"Enter a number: \"))\n",
    "total_sum = 0\n",
    "i = 1\n",
    "while i <= n:\n",
    "    total_sum += i\n",
    "    i += 1\n",
    "print(f\"The sum of numbers from 1 to {n} is: {total_sum}\")"
   ]
  },
  {
   "cell_type": "markdown",
   "id": "ef4e0397",
   "metadata": {},
   "source": [
    "Ask the user for a number and display its **multiplication table** (1 to 10)."
   ]
  },
  {
   "cell_type": "code",
   "execution_count": null,
   "id": "78ec7e88",
   "metadata": {},
   "outputs": [],
   "source": [
    "n = int(input(\"Enter a number: \"))\n",
    "i = 1\n",
    "while i <= 10:\n",
    "    print(f\"{n} x {i} = {n * i}\")\n",
    "    i += 1"
   ]
  },
  {
   "cell_type": "markdown",
   "id": "82c8fbb5",
   "metadata": {},
   "source": [
    "Allow a user to enter a **password with 3 attempts** before locking them out."
   ]
  },
  {
   "cell_type": "code",
   "execution_count": null,
   "id": "5cd1c50c",
   "metadata": {},
   "outputs": [],
   "source": [
    "correct_password = \"secret\"\n",
    "attempts = 3\n",
    "\n",
    "while attempts > 0:\n",
    "    password = input(\"Enter your password: \")\n",
    "    if password == correct_password:\n",
    "        print(\"Access granted!\")\n",
    "        break\n",
    "    else:\n",
    "        attempts -= 1\n",
    "        if attempts > 0:\n",
    "            print(f\"Incorrect password. {attempts} attempts remaining.\")\n",
    "        else:\n",
    "            print(\"You are locked out.\")"
   ]
  },
  {
   "cell_type": "markdown",
   "id": "ea83975a",
   "metadata": {},
   "source": [
    "Ask the user for a number and **count how many digits** it has."
   ]
  },
  {
   "cell_type": "code",
   "execution_count": null,
   "id": "ae56a252",
   "metadata": {},
   "outputs": [],
   "source": [
    "n = input(\"Enter a number: \")\n",
    "digit_count = len(n)\n",
    "print(f\"The number has {digit_count} digits.\")"
   ]
  },
  {
   "cell_type": "markdown",
   "id": "cfd8a80b",
   "metadata": {},
   "source": [
    "Compute **n!** using a loop. For example 5! = 5 * 4 * 3 * 2 * 1 = 120"
   ]
  },
  {
   "cell_type": "code",
   "execution_count": null,
   "id": "1664740b",
   "metadata": {},
   "outputs": [],
   "source": [
    "n = int(input(\"Enter a number: \"))\n",
    "factorial = 1\n",
    "i = n\n",
    "while i > 0:\n",
    "    factorial *= i\n",
    "    i -= 1\n",
    "print(f\"{n}! = {factorial}\")"
   ]
  },
  {
   "cell_type": "markdown",
   "id": "e9d1d83e",
   "metadata": {},
   "source": [
    "Ask the user for a string and **print it in reverse**."
   ]
  },
  {
   "cell_type": "code",
   "execution_count": null,
   "id": "aa87259c",
   "metadata": {},
   "outputs": [],
   "source": [
    "s = input(\"Enter a string: \")\n",
    "reversed_string = s[::-1]\n",
    "print(f\"Reversed string: {reversed_string}\")"
   ]
  },
  {
   "cell_type": "markdown",
   "id": "981bff82",
   "metadata": {},
   "source": [
    "Print numbers **1-100**.\n",
    "- Replace multiples of **3 with 'Fizz'**.\n",
    "- Replace multiples of **5 with 'Buzz'**.\n",
    "- Replace multiples of **both with 'FizzBuzz'**."
   ]
  },
  {
   "cell_type": "code",
   "execution_count": null,
   "id": "fc8a6a6b",
   "metadata": {},
   "outputs": [],
   "source": [
    "i = 1\n",
    "while i <= 100:\n",
    "    if i % 3 == 0 and i % 5 == 0:\n",
    "        print(\"FizzBuzz\")\n",
    "    elif i % 3 == 0:\n",
    "        print(\"Fizz\")\n",
    "    elif i % 5 == 0:\n",
    "        print(\"Buzz\")\n",
    "    else:\n",
    "        print(i)\n",
    "    i += 1"
   ]
  },
  {
   "cell_type": "markdown",
   "id": "18627062",
   "metadata": {},
   "source": [
    "Let the **computer pick a number (1-100)** (method random)\n",
    "- User guesses the number.\n",
    "- The program provides hints (`too high`, `too low`)."
   ]
  },
  {
   "cell_type": "code",
   "execution_count": null,
   "id": "b1457761",
   "metadata": {},
   "outputs": [],
   "source": [
    "import random\n",
    "\n",
    "number = random.randint(1, 100)\n",
    "guess = None\n",
    "\n",
    "while guess != number:\n",
    "    guess = int(input(\"Guess the number (1-100): \"))\n",
    "    if guess < number:\n",
    "        print(\"Too low!\")\n",
    "    elif guess > number:\n",
    "        print(\"Too high!\")\n",
    "    else:\n",
    "        print(\"Correct! You guessed the number.\")"
   ]
  },
  {
   "cell_type": "markdown",
   "id": "4ca45a83",
   "metadata": {},
   "source": [
    "Write a function called `greet()` that prints `'Hello, world!'`.\n",
    "Then call the function to see the output.\n",
    "\n",
    "Functions are created using the `def` keyword. They help us avoid repeating code."
   ]
  },
  {
   "cell_type": "code",
   "execution_count": null,
   "id": "5cef541c",
   "metadata": {},
   "outputs": [],
   "source": [
    "def greet():\n",
    "    print(\"Hello, world!\")\n",
    "\n",
    "greet()"
   ]
  },
  {
   "cell_type": "markdown",
   "id": "e848912e",
   "metadata": {},
   "source": [
    "Define a function `square(n)` that takes a number `n` as an argument and returns its square.\n",
    "\n",
    "Functions can take parameters, which allow us to pass values when calling them."
   ]
  },
  {
   "cell_type": "code",
   "execution_count": null,
   "id": "550131a1",
   "metadata": {},
   "outputs": [],
   "source": [
    "def square(n):\n",
    "    return n ** 2\n",
    "\n",
    "result = square(5)\n",
    "print(result)  # Output: 25"
   ]
  },
  {
   "cell_type": "markdown",
   "id": "01be0a5a",
   "metadata": {},
   "source": [
    "Write a function `is_even(n)` that returns `True` if `n` is even, otherwise returns `False`.\n",
    "\n",
    "Use the modulus operator `%` to check if a number is divisible by 2."
   ]
  },
  {
   "cell_type": "code",
   "execution_count": null,
   "id": "e68ee3f6",
   "metadata": {},
   "outputs": [],
   "source": [
    "def is_even(n):\n",
    "    return n % 2 == 0\n",
    "\n",
    "print(is_even(4))  # Output: True\n",
    "print(is_even(5))  # Output: False"
   ]
  },
  {
   "cell_type": "markdown",
   "id": "d7171bcd",
   "metadata": {},
   "source": [
    "Create a function `calculate_bmi(weight, height)` that returns the BMI using the formula:\n",
    "```\n",
    "BMI = weight / (height^2)\n",
    "```\n",
    "Use this function to calculate BMI based on user input.\n",
    "\n",
    "Functions allow us to break down real-world calculations into reusable parts."
   ]
  },
  {
   "cell_type": "code",
   "execution_count": null,
   "id": "2093b4a0",
   "metadata": {},
   "outputs": [],
   "source": [
    "def calculate_bmi(weight, height):\n",
    "    return weight / (height ** 2)\n",
    "\n",
    "weight = float(input(\"Enter your weight in kg: \"))\n",
    "height = float(input(\"Enter your height in meters: \"))\n",
    "\n",
    "bmi = calculate_bmi(weight, height)\n",
    "print(f\"Your BMI is: {bmi:.2f}\")"
   ]
  },
  {
   "cell_type": "markdown",
   "id": "1701d4f6",
   "metadata": {},
   "source": [
    "Write a function `celsius_to_fahrenheit(celsius)` that converts a temperature from Celsius to Fahrenheit.\n",
    "\n",
    "The formula to convert Celsius to Fahrenheit is:\n",
    "```\n",
    "F = (9/5) * C + 32\n",
    "```\n",
    "Use the function to convert different temperatures."
   ]
  },
  {
   "cell_type": "code",
   "execution_count": null,
   "id": "8a3c17ed",
   "metadata": {},
   "outputs": [],
   "source": [
    "def celsius_to_fahrenheit(celsius):\n",
    "    return (9/5) * celsius + 32\n",
    "\n",
    "print(celsius_to_fahrenheit(0))   # Output: 32.0\n",
    "print(celsius_to_fahrenheit(100)) # Output: 212.0"
   ]
  },
  {
   "cell_type": "markdown",
   "id": "4bc0ff18",
   "metadata": {},
   "source": [
    "Write a function that takes three numbers and returns the largest.\n",
    "\n",
    "Use conditional statements (`if`, `elif`, `else`) inside the function to compare values."
   ]
  },
  {
   "cell_type": "code",
   "execution_count": null,
   "id": "94f148db",
   "metadata": {},
   "outputs": [],
   "source": [
    "def find_largest(num1, num2, num3):\n",
    "    if num1 >= num2 and num1 >= num3:\n",
    "        return num1\n",
    "    elif num2 >= num1 and num2 >= num3:\n",
    "        return num2\n",
    "    else:\n",
    "        return num3\n",
    "\n",
    "# Example usage\n",
    "largest = find_largest(10, 25, 18)\n",
    "print(f\"The largest number is: {largest}\")\n"
   ]
  },
  {
   "cell_type": "markdown",
   "id": "ba1ea27f",
   "metadata": {},
   "source": [
    "Create a function that generates a random **8-character** password.\n",
    "\n",
    "Use Python's `random` module to generate random characters for the password."
   ]
  },
  {
   "cell_type": "code",
   "execution_count": null,
   "id": "60b30a99",
   "metadata": {},
   "outputs": [],
   "source": [
    "import random\n",
    "import string\n",
    "\n",
    "def generate_password():\n",
    "    # Define the characters to choose from\n",
    "    characters = string.ascii_letters + string.digits + string.punctuation\n",
    "    # Randomly select 8 characters from the defined set\n",
    "    password = ''.join(random.choice(characters) for _ in range(8))\n",
    "    return password\n",
    "\n",
    "# Example usage\n",
    "password = generate_password()\n",
    "print(f\"Generated password: {password}\")\n"
   ]
  },
  {
   "cell_type": "markdown",
   "id": "e07ab45e",
   "metadata": {},
   "source": [
    "Write a function that returns the **n-th** Fibonacci number.\n",
    "\n",
    "The Fibonacci series is defined as:\n",
    "```\n",
    "F(n) = F(n-1) + F(n-2), where F(0) = 0 and F(1) = 1\n",
    "```Try solving it using both iteration and recursion."
   ]
  },
  {
   "cell_type": "code",
   "execution_count": null,
   "id": "ccce5cda",
   "metadata": {},
   "outputs": [],
   "source": []
  },
  {
   "cell_type": "markdown",
   "id": "781ec3db",
   "metadata": {},
   "source": [
    "Write a function that returns all prime numbers up to a given limit.\n",
    "\n",
    "A prime number is a number that is only divisible by 1 and itself.\n",
    "Use a loop to check for divisibility and return a list of prime numbers."
   ]
  },
  {
   "cell_type": "code",
   "execution_count": null,
   "id": "f45a73e7",
   "metadata": {},
   "outputs": [],
   "source": []
  },
  {
   "cell_type": "markdown",
   "id": "5130f07c",
   "metadata": {},
   "source": [
    "Write a function that returns the **length of a string**.\n",
    "\n",
    "The built-in function `len()` can be used to determine the length of a string. Try implementing it inside a function and testing it with different inputs."
   ]
  },
  {
   "cell_type": "code",
   "execution_count": null,
   "id": "2aadba45",
   "metadata": {},
   "outputs": [],
   "source": []
  },
  {
   "cell_type": "markdown",
   "id": "971b2370",
   "metadata": {},
   "source": [
    "Write a function that **counts the number of vowels** (`a, e, i, o, u`) in a given string.\n",
    "\n",
    "Strings in Python can be iterated character by character. Use a loop to check if each character is a vowel and keep a count."
   ]
  },
  {
   "cell_type": "code",
   "execution_count": null,
   "id": "62ef6407",
   "metadata": {},
   "outputs": [],
   "source": []
  },
  {
   "cell_type": "markdown",
   "id": "0b05a377",
   "metadata": {},
   "source": [
    "Write a function that **returns the reverse of a string**.\n",
    "\n",
    "You can achieve this using a loop or Python's slicing feature: `string[::-1]`."
   ]
  },
  {
   "cell_type": "code",
   "execution_count": null,
   "id": "06b2ea35",
   "metadata": {},
   "outputs": [],
   "source": []
  },
  {
   "cell_type": "markdown",
   "id": "fc330198",
   "metadata": {},
   "source": [
    "Write a function that **checks if a string is a palindrome** (reads the same forward and backward).\n",
    "\n",
    "You can use the reverse function from the previous exercise and compare the original string with the reversed one."
   ]
  },
  {
   "cell_type": "code",
   "execution_count": null,
   "id": "4c39a762",
   "metadata": {},
   "outputs": [],
   "source": []
  },
  {
   "cell_type": "markdown",
   "id": "614ca89e",
   "metadata": {},
   "source": [
    "Ask for a word and print the **first three** and **last three** characters of the word.\n",
    "\n",
    "Use string slicing: `string[:3]` for the first three characters and `string[-3:]` for the last three."
   ]
  },
  {
   "cell_type": "code",
   "execution_count": null,
   "id": "4cfb20de",
   "metadata": {},
   "outputs": [],
   "source": []
  },
  {
   "cell_type": "markdown",
   "id": "b3462620",
   "metadata": {},
   "source": [
    "Ask for a sentence and count the number of **words** in it.\n",
    "\n",
    "Words in a sentence are usually separated by spaces. The `split()` function can be useful for this task."
   ]
  },
  {
   "cell_type": "code",
   "execution_count": null,
   "id": "0d76e7a6",
   "metadata": {},
   "outputs": [],
   "source": []
  },
  {
   "cell_type": "markdown",
   "id": "131ac1e8",
   "metadata": {},
   "source": [
    "Write a function that checks if **one string is found inside another**.\n",
    "\n",
    "Use the `in` keyword or the `.find()` method to check for substrings."
   ]
  },
  {
   "cell_type": "code",
   "execution_count": null,
   "id": "4047b3e9",
   "metadata": {},
   "outputs": [],
   "source": []
  },
  {
   "cell_type": "markdown",
   "id": "8965a442",
   "metadata": {},
   "source": [
    "Write a function that **replaces all occurrences** of the word `'Python'` with `'Java'` in a given string.\n",
    "\n",
    "The `.replace()` function is useful for this task."
   ]
  },
  {
   "cell_type": "code",
   "execution_count": null,
   "id": "09c86c3c",
   "metadata": {},
   "outputs": [],
   "source": []
  },
  {
   "cell_type": "markdown",
   "id": "b783b1f9",
   "metadata": {},
   "source": [
    "Implement a **Caesar Cipher**, which is a basic encryption technique.\n",
    "\n",
    "It works by shifting each letter forward by a fixed number of positions in the alphabet.\n",
    "For example, shifting `'A'` by 3 results in `'D'`. Try implementing a function that encrypts a string this way."
   ]
  },
  {
   "cell_type": "code",
   "execution_count": null,
   "id": "4e5ee266",
   "metadata": {},
   "outputs": [],
   "source": []
  },
  {
   "cell_type": "markdown",
   "id": "9d689789",
   "metadata": {},
   "source": [
    "Write a function that **checks if two words are anagrams**.\n",
    "\n",
    "Anagrams are words formed by rearranging the letters of another word (e.g., `'listen'` and `'silent'`).\n",
    "A simple way to check is by sorting the characters in both words and comparing them."
   ]
  },
  {
   "cell_type": "code",
   "execution_count": null,
   "id": "bb9a22ef",
   "metadata": {},
   "outputs": [],
   "source": []
  }
 ],
 "metadata": {
  "kernelspec": {
   "display_name": "Python 3",
   "language": "python",
   "name": "python3"
  },
  "language_info": {
   "codemirror_mode": {
    "name": "ipython",
    "version": 3
   },
   "file_extension": ".py",
   "mimetype": "text/x-python",
   "name": "python",
   "nbconvert_exporter": "python",
   "pygments_lexer": "ipython3",
   "version": "3.13.1"
  }
 },
 "nbformat": 4,
 "nbformat_minor": 5
}
