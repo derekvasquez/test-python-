{
 "cells": [
  {
   "cell_type": "markdown",
   "id": "815bc579",
   "metadata": {},
   "source": [
    "# 🔹 Lab Session: Understanding Functions in Python\n",
    "### **Goal of the Lab:**\n",
    "By the end of this lab, students should be able to:\n",
    "- ✅ Understand why functions are useful.\n",
    "- ✅ Define and call functions.\n",
    "- ✅ Use parameters and return values.\n",
    "- ✅ Apply functions inside loops (`for`, `while`) and `if` conditions.\n",
    "- ✅ Solve practical problems using functions.\n"
   ]
  },
  {
   "cell_type": "markdown",
   "id": "34c61640",
   "metadata": {},
   "source": [
    "## 🔹 Step 1: Introduction to Functions\n",
    "### **What is a Function?**\n",
    "A function is a reusable block of code that performs a specific task. It helps avoid repeating the same code multiple times, making our programs more organized and readable.\n",
    "\n",
    "### **Example 1: Basic Function**"
   ]
  },
  {
   "cell_type": "code",
   "execution_count": null,
   "id": "2111f860",
   "metadata": {},
   "outputs": [],
   "source": [
    "def greet():\n",
    "    print(\"Hello, welcome to the lab!\")\n",
    "\n",
    "# Calling the function\n",
    "greet()"
   ]
  },
  {
   "cell_type": "markdown",
   "id": "0ce9a84c",
   "metadata": {},
   "source": [
    "## 🔹 Step 2: Functions with Parameters\n",
    "### **Example 2: Greeting Function with a Name**"
   ]
  },
  {
   "cell_type": "code",
   "execution_count": null,
   "id": "67b5776d",
   "metadata": {},
   "outputs": [],
   "source": [
    "def greet(name):\n",
    "    print(f\"Hello, {name}!\")\n",
    "\n",
    "# Calling the function\n",
    "greet(\"Alice\")\n",
    "greet(\"Bob\")"
   ]
  },
  {
   "cell_type": "markdown",
   "id": "5cf16f6b",
   "metadata": {},
   "source": [
    "## 🔹 Step 3: Functions with Return Values\n",
    "### **Example 3: Square of a Number**"
   ]
  },
  {
   "cell_type": "code",
   "execution_count": null,
   "id": "10e39ecf",
   "metadata": {},
   "outputs": [],
   "source": [
    "def square(number):\n",
    "    return number * number\n",
    "\n",
    "# Calling the function\n",
    "result = square(4)\n",
    "print(result)  # Expected output: 16"
   ]
  },
  {
   "cell_type": "markdown",
   "id": "f10d1745",
   "metadata": {},
   "source": [
    "## 🔹 Step 4: Using Functions in Loops\n",
    "### **Example 4: Even Numbers in a Range**"
   ]
  },
  {
   "cell_type": "code",
   "execution_count": null,
   "id": "b4b349e6",
   "metadata": {},
   "outputs": [],
   "source": [
    "def is_even(n):\n",
    "    return n % 2 == 0\n",
    "\n",
    "for num in range(1, 11):\n",
    "    if is_even(num):\n",
    "        print(num, \"is even\")"
   ]
  },
  {
   "cell_type": "markdown",
   "id": "4217a09e",
   "metadata": {},
   "source": [
    "## 🔹 Step 5: Functions with `if-else` Conditions\n",
    "### **Example 5: Check if a Number is Positive, Negative, or Zero**"
   ]
  },
  {
   "cell_type": "code",
   "execution_count": null,
   "id": "a66123c0",
   "metadata": {},
   "outputs": [],
   "source": [
    "def check_number(n):\n",
    "    if n > 0:\n",
    "        return \"Positive\"\n",
    "    elif n < 0:\n",
    "        return \"Negative\"\n",
    "    else:\n",
    "        return \"Zero\"\n",
    "\n",
    "print(check_number(5))   # Positive\n",
    "print(check_number(-3))  # Negative\n",
    "print(check_number(0))   # Zero"
   ]
  },
  {
   "cell_type": "markdown",
   "id": "222944a9",
   "metadata": {},
   "source": [
    "## 🔹 Step 6: Functions with `while` Loops\n",
    "### **Example 6: Countdown Function**"
   ]
  },
  {
   "cell_type": "code",
   "execution_count": 1,
   "id": "baf2874a",
   "metadata": {},
   "outputs": [
    {
     "name": "stdout",
     "output_type": "stream",
     "text": [
      "5\n",
      "4\n",
      "3\n",
      "2\n",
      "1\n",
      "Time's up!\n"
     ]
    }
   ],
   "source": [
    "def countdown(n):\n",
    "    for i in range(n, 0, -1):\n",
    "        print(i)\n",
    "    print(\"Time's up!\")\n",
    "\n",
    "countdown(5)"
   ]
  },
  {
   "cell_type": "markdown",
   "id": "b0d1f9b1",
   "metadata": {},
   "source": [
    "## 🔹 Step 7: Functions That Process Multiple Inputs\n",
    "### **Example 7: Sum of a Given Range**"
   ]
  },
  {
   "cell_type": "code",
   "execution_count": null,
   "id": "baef766f",
   "metadata": {},
   "outputs": [],
   "source": [
    "def sum_numbers(start, end):\n",
    "    total = 0\n",
    "    for num in range(start, end + 1):\n",
    "        total += num\n",
    "    return total\n",
    "\n",
    "print(sum_numbers(1, 5))  # Expected output: 15 (1+2+3+4+5)"
   ]
  },
  {
   "cell_type": "markdown",
   "id": "a8605b77",
   "metadata": {},
   "source": [
    "## 🔹 Step 8: Challenge Problems\n",
    "### **Problem 1: Find the Largest of Two Numbers**"
   ]
  },
  {
   "cell_type": "code",
   "execution_count": null,
   "id": "02babb48",
   "metadata": {},
   "outputs": [],
   "source": [
    "def max_of_two(a, b):\n",
    "    if a > b:\n",
    "        return a\n",
    "    return b\n",
    "\n",
    "print(max_of_two(10, 5))  # Output: 10\n",
    "print(max_of_two(3, 8))   # Output: 8"
   ]
  },
  {
   "cell_type": "markdown",
   "id": "dfe7f3a5",
   "metadata": {},
   "source": [
    "### **Problem 2: Check if a Number is a Perfect Square**"
   ]
  },
  {
   "cell_type": "code",
   "execution_count": null,
   "id": "e2414e0a",
   "metadata": {},
   "outputs": [],
   "source": [
    "def is_perfect_square(n):\n",
    "    i = 1\n",
    "    while i * i <= n:\n",
    "        if i * i == n:\n",
    "            return True\n",
    "        i += 1\n",
    "    return False\n",
    "\n",
    "print(is_perfect_square(16))  # True\n",
    "print(is_perfect_square(20))  # False"
   ]
  },
  {
   "cell_type": "markdown",
   "id": "285c2836",
   "metadata": {},
   "source": [
    "### **Problem 3: Simulating an ATM PIN Check**"
   ]
  },
  {
   "cell_type": "code",
   "execution_count": null,
   "id": "f3df79d5",
   "metadata": {},
   "outputs": [],
   "source": [
    "def atm_login(correct_pin):\n",
    "    attempts = 3\n",
    "    while attempts > 0:\n",
    "        pin = input(\"Enter your PIN: \")\n",
    "        if pin == correct_pin:\n",
    "            print(\"Access Granted\")\n",
    "            return True\n",
    "        else:\n",
    "            attempts -= 1\n",
    "            print(f\"Incorrect PIN. {attempts} attempts left.\")\n",
    "    print(\"Account Locked!\")\n",
    "    return False\n",
    "\n",
    "atm_login(\"1234\")"
   ]
  },
  {
   "cell_type": "markdown",
   "id": "e92a5ad8",
   "metadata": {},
   "source": [
    "## 🔹 Conclusion of the Lab\n",
    "- Functions **reduce repetition** and **make code reusable**.\n",
    "- We can **pass inputs (parameters)** and **return results**.\n",
    "- Functions **work with loops (`for`, `while`) and conditions (`if`)**.\n",
    "- **Practice makes perfect**—try modifying the examples!\n"
   ]
  }
 ],
 "metadata": {
  "kernelspec": {
   "display_name": "base",
   "language": "python",
   "name": "python3"
  },
  "language_info": {
   "codemirror_mode": {
    "name": "ipython",
    "version": 3
   },
   "file_extension": ".py",
   "mimetype": "text/x-python",
   "name": "python",
   "nbconvert_exporter": "python",
   "pygments_lexer": "ipython3",
   "version": "3.9.18"
  }
 },
 "nbformat": 4,
 "nbformat_minor": 5
}
